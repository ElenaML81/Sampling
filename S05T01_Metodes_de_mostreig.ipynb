{
 "cells": [
  {
   "cell_type": "markdown",
   "id": "c87adbd6",
   "metadata": {},
   "source": [
    "### S05 T01: Tasca mètodes de mostreig"
   ]
  },
  {
   "cell_type": "markdown",
   "id": "26629864",
   "metadata": {},
   "source": [
    "## **Exercici 1**"
   ]
  },
  {
   "cell_type": "markdown",
   "id": "9d52ff8c",
   "metadata": {},
   "source": [
    "Agafa un conjunt de dades de tema esportiu que t'agradi. Realitza un mostreig de les dades generant una mostra aleatòria simple i una mostra sistemàtica."
   ]
  },
  {
   "cell_type": "markdown",
   "id": "f2d5cea7",
   "metadata": {},
   "source": [
    "For this exercise we will look at a dataset on the athletes that took part on modern Olympic Games, including all the Games from Athens 1896 to Rio 2016, including Summer and Winter Games. This dataset is taken from the page: https://www.kaggle.com/heesoo37/120-years-of-olympic-history-athletes-and-results"
   ]
  },
  {
   "cell_type": "markdown",
   "id": "21349faa",
   "metadata": {
    "ExecuteTime": {
     "end_time": "2022-03-07T16:20:45.478362Z",
     "start_time": "2022-03-07T16:20:45.459790Z"
    }
   },
   "source": [
    "<div>\n",
    "<img src=\"Olympics.png\" width=\"220\"/>\n",
    "</div>"
   ]
  },
  {
   "cell_type": "code",
   "execution_count": 37,
   "id": "0ce3ca44",
   "metadata": {
    "ExecuteTime": {
     "end_time": "2022-03-07T22:05:50.082427Z",
     "start_time": "2022-03-07T22:05:50.070382Z"
    }
   },
   "outputs": [],
   "source": [
    "import pandas as pd\n",
    "import random\n",
    "import math \n",
    "import numpy as np\n",
    "from IPython.display import display_html \n",
    "pd.options.mode.chained_assignment = None  # default='warn'"
   ]
  },
  {
   "cell_type": "code",
   "execution_count": 38,
   "id": "59466e62",
   "metadata": {
    "ExecuteTime": {
     "end_time": "2022-03-07T22:05:50.637335Z",
     "start_time": "2022-03-07T22:05:50.085384Z"
    }
   },
   "outputs": [
    {
     "data": {
      "text/html": [
       "<div>\n",
       "<style scoped>\n",
       "    .dataframe tbody tr th:only-of-type {\n",
       "        vertical-align: middle;\n",
       "    }\n",
       "\n",
       "    .dataframe tbody tr th {\n",
       "        vertical-align: top;\n",
       "    }\n",
       "\n",
       "    .dataframe thead th {\n",
       "        text-align: right;\n",
       "    }\n",
       "</style>\n",
       "<table border=\"1\" class=\"dataframe\">\n",
       "  <thead>\n",
       "    <tr style=\"text-align: right;\">\n",
       "      <th></th>\n",
       "      <th>ID</th>\n",
       "      <th>Name</th>\n",
       "      <th>Sex</th>\n",
       "      <th>Age</th>\n",
       "      <th>Height</th>\n",
       "      <th>Weight</th>\n",
       "      <th>Team</th>\n",
       "      <th>NOC</th>\n",
       "      <th>Games</th>\n",
       "      <th>Year</th>\n",
       "      <th>Season</th>\n",
       "      <th>City</th>\n",
       "      <th>Sport</th>\n",
       "      <th>Event</th>\n",
       "      <th>Medal</th>\n",
       "    </tr>\n",
       "  </thead>\n",
       "  <tbody>\n",
       "    <tr>\n",
       "      <th>0</th>\n",
       "      <td>1</td>\n",
       "      <td>A Dijiang</td>\n",
       "      <td>M</td>\n",
       "      <td>24.0</td>\n",
       "      <td>180.0</td>\n",
       "      <td>80.0</td>\n",
       "      <td>China</td>\n",
       "      <td>CHN</td>\n",
       "      <td>1992 Summer</td>\n",
       "      <td>1992</td>\n",
       "      <td>Summer</td>\n",
       "      <td>Barcelona</td>\n",
       "      <td>Basketball</td>\n",
       "      <td>Basketball Men's Basketball</td>\n",
       "      <td>NaN</td>\n",
       "    </tr>\n",
       "    <tr>\n",
       "      <th>1</th>\n",
       "      <td>2</td>\n",
       "      <td>A Lamusi</td>\n",
       "      <td>M</td>\n",
       "      <td>23.0</td>\n",
       "      <td>170.0</td>\n",
       "      <td>60.0</td>\n",
       "      <td>China</td>\n",
       "      <td>CHN</td>\n",
       "      <td>2012 Summer</td>\n",
       "      <td>2012</td>\n",
       "      <td>Summer</td>\n",
       "      <td>London</td>\n",
       "      <td>Judo</td>\n",
       "      <td>Judo Men's Extra-Lightweight</td>\n",
       "      <td>NaN</td>\n",
       "    </tr>\n",
       "    <tr>\n",
       "      <th>2</th>\n",
       "      <td>3</td>\n",
       "      <td>Gunnar Nielsen Aaby</td>\n",
       "      <td>M</td>\n",
       "      <td>24.0</td>\n",
       "      <td>NaN</td>\n",
       "      <td>NaN</td>\n",
       "      <td>Denmark</td>\n",
       "      <td>DEN</td>\n",
       "      <td>1920 Summer</td>\n",
       "      <td>1920</td>\n",
       "      <td>Summer</td>\n",
       "      <td>Antwerpen</td>\n",
       "      <td>Football</td>\n",
       "      <td>Football Men's Football</td>\n",
       "      <td>NaN</td>\n",
       "    </tr>\n",
       "    <tr>\n",
       "      <th>3</th>\n",
       "      <td>4</td>\n",
       "      <td>Edgar Lindenau Aabye</td>\n",
       "      <td>M</td>\n",
       "      <td>34.0</td>\n",
       "      <td>NaN</td>\n",
       "      <td>NaN</td>\n",
       "      <td>Denmark/Sweden</td>\n",
       "      <td>DEN</td>\n",
       "      <td>1900 Summer</td>\n",
       "      <td>1900</td>\n",
       "      <td>Summer</td>\n",
       "      <td>Paris</td>\n",
       "      <td>Tug-Of-War</td>\n",
       "      <td>Tug-Of-War Men's Tug-Of-War</td>\n",
       "      <td>Gold</td>\n",
       "    </tr>\n",
       "    <tr>\n",
       "      <th>4</th>\n",
       "      <td>5</td>\n",
       "      <td>Christine Jacoba Aaftink</td>\n",
       "      <td>F</td>\n",
       "      <td>21.0</td>\n",
       "      <td>185.0</td>\n",
       "      <td>82.0</td>\n",
       "      <td>Netherlands</td>\n",
       "      <td>NED</td>\n",
       "      <td>1988 Winter</td>\n",
       "      <td>1988</td>\n",
       "      <td>Winter</td>\n",
       "      <td>Calgary</td>\n",
       "      <td>Speed Skating</td>\n",
       "      <td>Speed Skating Women's 500 metres</td>\n",
       "      <td>NaN</td>\n",
       "    </tr>\n",
       "  </tbody>\n",
       "</table>\n",
       "</div>"
      ],
      "text/plain": [
       "   ID                      Name Sex   Age  Height  Weight            Team  \\\n",
       "0   1                 A Dijiang   M  24.0   180.0    80.0           China   \n",
       "1   2                  A Lamusi   M  23.0   170.0    60.0           China   \n",
       "2   3       Gunnar Nielsen Aaby   M  24.0     NaN     NaN         Denmark   \n",
       "3   4      Edgar Lindenau Aabye   M  34.0     NaN     NaN  Denmark/Sweden   \n",
       "4   5  Christine Jacoba Aaftink   F  21.0   185.0    82.0     Netherlands   \n",
       "\n",
       "   NOC        Games  Year  Season       City          Sport  \\\n",
       "0  CHN  1992 Summer  1992  Summer  Barcelona     Basketball   \n",
       "1  CHN  2012 Summer  2012  Summer     London           Judo   \n",
       "2  DEN  1920 Summer  1920  Summer  Antwerpen       Football   \n",
       "3  DEN  1900 Summer  1900  Summer      Paris     Tug-Of-War   \n",
       "4  NED  1988 Winter  1988  Winter    Calgary  Speed Skating   \n",
       "\n",
       "                              Event Medal  \n",
       "0       Basketball Men's Basketball   NaN  \n",
       "1      Judo Men's Extra-Lightweight   NaN  \n",
       "2           Football Men's Football   NaN  \n",
       "3       Tug-Of-War Men's Tug-Of-War  Gold  \n",
       "4  Speed Skating Women's 500 metres   NaN  "
      ]
     },
     "execution_count": 38,
     "metadata": {},
     "output_type": "execute_result"
    }
   ],
   "source": [
    "df = pd.read_csv('athlete_events.csv')\n",
    "df.head()"
   ]
  },
  {
   "cell_type": "markdown",
   "id": "ca829dcd",
   "metadata": {},
   "source": [
    "We have some repeated athletes in teh dataframe but we will not delete these duplicates because some athletes compete in different categories and even in different Games, so it's normal that they can appear more than once."
   ]
  },
  {
   "cell_type": "code",
   "execution_count": 39,
   "id": "d9325aa9",
   "metadata": {
    "ExecuteTime": {
     "end_time": "2022-03-07T22:05:50.971636Z",
     "start_time": "2022-03-07T22:05:50.638269Z"
    }
   },
   "outputs": [
    {
     "name": "stdout",
     "output_type": "stream",
     "text": [
      "<class 'pandas.core.frame.DataFrame'>\n",
      "RangeIndex: 271116 entries, 0 to 271115\n",
      "Data columns (total 15 columns):\n",
      " #   Column  Non-Null Count   Dtype  \n",
      "---  ------  --------------   -----  \n",
      " 0   ID      271116 non-null  int64  \n",
      " 1   Name    271116 non-null  object \n",
      " 2   Sex     271116 non-null  object \n",
      " 3   Age     261642 non-null  float64\n",
      " 4   Height  210945 non-null  float64\n",
      " 5   Weight  208241 non-null  float64\n",
      " 6   Team    271116 non-null  object \n",
      " 7   NOC     271116 non-null  object \n",
      " 8   Games   271116 non-null  object \n",
      " 9   Year    271116 non-null  int64  \n",
      " 10  Season  271116 non-null  object \n",
      " 11  City    271116 non-null  object \n",
      " 12  Sport   271116 non-null  object \n",
      " 13  Event   271116 non-null  object \n",
      " 14  Medal   39783 non-null   object \n",
      "dtypes: float64(3), int64(2), object(10)\n",
      "memory usage: 31.0+ MB\n"
     ]
    }
   ],
   "source": [
    "df.info()"
   ]
  },
  {
   "cell_type": "markdown",
   "id": "9e2b0648",
   "metadata": {},
   "source": [
    "Foe the purpose of this exercise, first we will delete all rows that have null values in columns: 'Age', 'Height', 'Weight'. Null values in the column 'Medal' means no medal won, so we'll keep this info. "
   ]
  },
  {
   "cell_type": "code",
   "execution_count": 40,
   "id": "2623eef6",
   "metadata": {
    "ExecuteTime": {
     "end_time": "2022-03-07T22:05:51.018500Z",
     "start_time": "2022-03-07T22:05:50.973565Z"
    }
   },
   "outputs": [],
   "source": [
    "df = df.dropna(subset = ['Age', 'Height', 'Weight'])"
   ]
  },
  {
   "cell_type": "code",
   "execution_count": 41,
   "id": "8cc36382",
   "metadata": {
    "ExecuteTime": {
     "end_time": "2022-03-07T22:05:51.034317Z",
     "start_time": "2022-03-07T22:05:51.019505Z"
    }
   },
   "outputs": [
    {
     "data": {
      "text/plain": [
       "(206165, 15)"
      ]
     },
     "execution_count": 41,
     "metadata": {},
     "output_type": "execute_result"
    }
   ],
   "source": [
    "df.shape"
   ]
  },
  {
   "cell_type": "code",
   "execution_count": 42,
   "id": "ba963567",
   "metadata": {
    "ExecuteTime": {
     "end_time": "2022-03-07T22:05:51.080413Z",
     "start_time": "2022-03-07T22:05:51.036221Z"
    }
   },
   "outputs": [
    {
     "data": {
      "text/html": [
       "<div>\n",
       "<style scoped>\n",
       "    .dataframe tbody tr th:only-of-type {\n",
       "        vertical-align: middle;\n",
       "    }\n",
       "\n",
       "    .dataframe tbody tr th {\n",
       "        vertical-align: top;\n",
       "    }\n",
       "\n",
       "    .dataframe thead th {\n",
       "        text-align: right;\n",
       "    }\n",
       "</style>\n",
       "<table border=\"1\" class=\"dataframe\">\n",
       "  <thead>\n",
       "    <tr style=\"text-align: right;\">\n",
       "      <th></th>\n",
       "      <th>Age</th>\n",
       "      <th>Height</th>\n",
       "      <th>Weight</th>\n",
       "    </tr>\n",
       "  </thead>\n",
       "  <tbody>\n",
       "    <tr>\n",
       "      <th>count</th>\n",
       "      <td>206165.00</td>\n",
       "      <td>206165.00</td>\n",
       "      <td>206165.00</td>\n",
       "    </tr>\n",
       "    <tr>\n",
       "      <th>mean</th>\n",
       "      <td>25.06</td>\n",
       "      <td>175.37</td>\n",
       "      <td>70.69</td>\n",
       "    </tr>\n",
       "    <tr>\n",
       "      <th>std</th>\n",
       "      <td>5.48</td>\n",
       "      <td>10.55</td>\n",
       "      <td>14.34</td>\n",
       "    </tr>\n",
       "    <tr>\n",
       "      <th>min</th>\n",
       "      <td>11.00</td>\n",
       "      <td>127.00</td>\n",
       "      <td>25.00</td>\n",
       "    </tr>\n",
       "    <tr>\n",
       "      <th>25%</th>\n",
       "      <td>21.00</td>\n",
       "      <td>168.00</td>\n",
       "      <td>60.00</td>\n",
       "    </tr>\n",
       "    <tr>\n",
       "      <th>50%</th>\n",
       "      <td>24.00</td>\n",
       "      <td>175.00</td>\n",
       "      <td>70.00</td>\n",
       "    </tr>\n",
       "    <tr>\n",
       "      <th>75%</th>\n",
       "      <td>28.00</td>\n",
       "      <td>183.00</td>\n",
       "      <td>79.00</td>\n",
       "    </tr>\n",
       "    <tr>\n",
       "      <th>max</th>\n",
       "      <td>71.00</td>\n",
       "      <td>226.00</td>\n",
       "      <td>214.00</td>\n",
       "    </tr>\n",
       "  </tbody>\n",
       "</table>\n",
       "</div>"
      ],
      "text/plain": [
       "             Age     Height     Weight\n",
       "count  206165.00  206165.00  206165.00\n",
       "mean       25.06     175.37      70.69\n",
       "std         5.48      10.55      14.34\n",
       "min        11.00     127.00      25.00\n",
       "25%        21.00     168.00      60.00\n",
       "50%        24.00     175.00      70.00\n",
       "75%        28.00     183.00      79.00\n",
       "max        71.00     226.00     214.00"
      ]
     },
     "execution_count": 42,
     "metadata": {},
     "output_type": "execute_result"
    }
   ],
   "source": [
    "df_describe = df[['Age', 'Height', 'Weight']].describe().round(2)\n",
    "df_describe"
   ]
  },
  {
   "cell_type": "markdown",
   "id": "63506a4b",
   "metadata": {
    "ExecuteTime": {
     "end_time": "2022-03-07T17:26:44.177472Z",
     "start_time": "2022-03-07T17:26:44.170472Z"
    }
   },
   "source": [
    "We can see a summary of the statistics for the numerical columns of this dataset: Age, Height and Weight. The dataset contains 206165  rows and 15 columns. "
   ]
  },
  {
   "cell_type": "markdown",
   "id": "b7803843",
   "metadata": {},
   "source": [
    "### Random sampling\n",
    "\n",
    "First, we will generate a **random sample of 30000 rows.**\n"
   ]
  },
  {
   "cell_type": "code",
   "execution_count": 43,
   "id": "0b0cd810",
   "metadata": {
    "ExecuteTime": {
     "end_time": "2022-03-07T22:05:51.111649Z",
     "start_time": "2022-03-07T22:05:51.081414Z"
    }
   },
   "outputs": [
    {
     "data": {
      "text/plain": [
       "(30000, 15)"
      ]
     },
     "execution_count": 43,
     "metadata": {},
     "output_type": "execute_result"
    }
   ],
   "source": [
    "# we use random state if we want our results to be reproducible \n",
    "random1 = df.sample(n=30000, random_state =42)\n",
    "random1.shape"
   ]
  },
  {
   "cell_type": "markdown",
   "id": "b0c68316",
   "metadata": {},
   "source": [
    "Now we have 30000 rows, let´s compare summary statistics of the numerical columns of this sampled dataframe with the whole dataframe:"
   ]
  },
  {
   "cell_type": "code",
   "execution_count": 44,
   "id": "c2b653e8",
   "metadata": {
    "ExecuteTime": {
     "end_time": "2022-03-07T22:05:51.141764Z",
     "start_time": "2022-03-07T22:05:51.112686Z"
    }
   },
   "outputs": [],
   "source": [
    "random1_describe = random1[['Age', 'Height', 'Weight']].describe().round(2)"
   ]
  },
  {
   "cell_type": "markdown",
   "id": "bb8c76c3",
   "metadata": {},
   "source": [
    "We´ll create a function to be able to display two dataframes side by side so we can compare better:"
   ]
  },
  {
   "cell_type": "code",
   "execution_count": 45,
   "id": "27148312",
   "metadata": {
    "ExecuteTime": {
     "end_time": "2022-03-07T22:05:51.157281Z",
     "start_time": "2022-03-07T22:05:51.143308Z"
    }
   },
   "outputs": [],
   "source": [
    "def side_by_side_df(df1, df2, title1, title2):\n",
    "\n",
    "    df1_styler = df1.style.set_table_attributes(\"style='display:inline'\").set_caption(title1)\n",
    "    df2_styler = df2.style.set_table_attributes(\"style='display:inline'\").set_caption(title2)\n",
    "    space = \"\\xa0\" * 10\n",
    "    display_html(df1_styler._repr_html_()+ space  + df2_styler._repr_html_(), raw=True)"
   ]
  },
  {
   "cell_type": "code",
   "execution_count": 46,
   "id": "5661c829",
   "metadata": {
    "ExecuteTime": {
     "end_time": "2022-03-07T22:05:51.172750Z",
     "start_time": "2022-03-07T22:05:51.160733Z"
    }
   },
   "outputs": [
    {
     "data": {
      "text/html": [
       "<style type=\"text/css\">\n",
       "</style>\n",
       "<table id=\"T_0ea78\" style='display:inline'>\n",
       "  <caption>df_describe</caption>\n",
       "  <thead>\n",
       "    <tr>\n",
       "      <th class=\"blank level0\" >&nbsp;</th>\n",
       "      <th id=\"T_0ea78_level0_col0\" class=\"col_heading level0 col0\" >Age</th>\n",
       "      <th id=\"T_0ea78_level0_col1\" class=\"col_heading level0 col1\" >Height</th>\n",
       "      <th id=\"T_0ea78_level0_col2\" class=\"col_heading level0 col2\" >Weight</th>\n",
       "    </tr>\n",
       "  </thead>\n",
       "  <tbody>\n",
       "    <tr>\n",
       "      <th id=\"T_0ea78_level0_row0\" class=\"row_heading level0 row0\" >count</th>\n",
       "      <td id=\"T_0ea78_row0_col0\" class=\"data row0 col0\" >206165.000000</td>\n",
       "      <td id=\"T_0ea78_row0_col1\" class=\"data row0 col1\" >206165.000000</td>\n",
       "      <td id=\"T_0ea78_row0_col2\" class=\"data row0 col2\" >206165.000000</td>\n",
       "    </tr>\n",
       "    <tr>\n",
       "      <th id=\"T_0ea78_level0_row1\" class=\"row_heading level0 row1\" >mean</th>\n",
       "      <td id=\"T_0ea78_row1_col0\" class=\"data row1 col0\" >25.060000</td>\n",
       "      <td id=\"T_0ea78_row1_col1\" class=\"data row1 col1\" >175.370000</td>\n",
       "      <td id=\"T_0ea78_row1_col2\" class=\"data row1 col2\" >70.690000</td>\n",
       "    </tr>\n",
       "    <tr>\n",
       "      <th id=\"T_0ea78_level0_row2\" class=\"row_heading level0 row2\" >std</th>\n",
       "      <td id=\"T_0ea78_row2_col0\" class=\"data row2 col0\" >5.480000</td>\n",
       "      <td id=\"T_0ea78_row2_col1\" class=\"data row2 col1\" >10.550000</td>\n",
       "      <td id=\"T_0ea78_row2_col2\" class=\"data row2 col2\" >14.340000</td>\n",
       "    </tr>\n",
       "    <tr>\n",
       "      <th id=\"T_0ea78_level0_row3\" class=\"row_heading level0 row3\" >min</th>\n",
       "      <td id=\"T_0ea78_row3_col0\" class=\"data row3 col0\" >11.000000</td>\n",
       "      <td id=\"T_0ea78_row3_col1\" class=\"data row3 col1\" >127.000000</td>\n",
       "      <td id=\"T_0ea78_row3_col2\" class=\"data row3 col2\" >25.000000</td>\n",
       "    </tr>\n",
       "    <tr>\n",
       "      <th id=\"T_0ea78_level0_row4\" class=\"row_heading level0 row4\" >25%</th>\n",
       "      <td id=\"T_0ea78_row4_col0\" class=\"data row4 col0\" >21.000000</td>\n",
       "      <td id=\"T_0ea78_row4_col1\" class=\"data row4 col1\" >168.000000</td>\n",
       "      <td id=\"T_0ea78_row4_col2\" class=\"data row4 col2\" >60.000000</td>\n",
       "    </tr>\n",
       "    <tr>\n",
       "      <th id=\"T_0ea78_level0_row5\" class=\"row_heading level0 row5\" >50%</th>\n",
       "      <td id=\"T_0ea78_row5_col0\" class=\"data row5 col0\" >24.000000</td>\n",
       "      <td id=\"T_0ea78_row5_col1\" class=\"data row5 col1\" >175.000000</td>\n",
       "      <td id=\"T_0ea78_row5_col2\" class=\"data row5 col2\" >70.000000</td>\n",
       "    </tr>\n",
       "    <tr>\n",
       "      <th id=\"T_0ea78_level0_row6\" class=\"row_heading level0 row6\" >75%</th>\n",
       "      <td id=\"T_0ea78_row6_col0\" class=\"data row6 col0\" >28.000000</td>\n",
       "      <td id=\"T_0ea78_row6_col1\" class=\"data row6 col1\" >183.000000</td>\n",
       "      <td id=\"T_0ea78_row6_col2\" class=\"data row6 col2\" >79.000000</td>\n",
       "    </tr>\n",
       "    <tr>\n",
       "      <th id=\"T_0ea78_level0_row7\" class=\"row_heading level0 row7\" >max</th>\n",
       "      <td id=\"T_0ea78_row7_col0\" class=\"data row7 col0\" >71.000000</td>\n",
       "      <td id=\"T_0ea78_row7_col1\" class=\"data row7 col1\" >226.000000</td>\n",
       "      <td id=\"T_0ea78_row7_col2\" class=\"data row7 col2\" >214.000000</td>\n",
       "    </tr>\n",
       "  </tbody>\n",
       "</table>\n",
       "          <style type=\"text/css\">\n",
       "</style>\n",
       "<table id=\"T_15b6d\" style='display:inline'>\n",
       "  <caption>random1_describe</caption>\n",
       "  <thead>\n",
       "    <tr>\n",
       "      <th class=\"blank level0\" >&nbsp;</th>\n",
       "      <th id=\"T_15b6d_level0_col0\" class=\"col_heading level0 col0\" >Age</th>\n",
       "      <th id=\"T_15b6d_level0_col1\" class=\"col_heading level0 col1\" >Height</th>\n",
       "      <th id=\"T_15b6d_level0_col2\" class=\"col_heading level0 col2\" >Weight</th>\n",
       "    </tr>\n",
       "  </thead>\n",
       "  <tbody>\n",
       "    <tr>\n",
       "      <th id=\"T_15b6d_level0_row0\" class=\"row_heading level0 row0\" >count</th>\n",
       "      <td id=\"T_15b6d_row0_col0\" class=\"data row0 col0\" >30000.000000</td>\n",
       "      <td id=\"T_15b6d_row0_col1\" class=\"data row0 col1\" >30000.000000</td>\n",
       "      <td id=\"T_15b6d_row0_col2\" class=\"data row0 col2\" >30000.000000</td>\n",
       "    </tr>\n",
       "    <tr>\n",
       "      <th id=\"T_15b6d_level0_row1\" class=\"row_heading level0 row1\" >mean</th>\n",
       "      <td id=\"T_15b6d_row1_col0\" class=\"data row1 col0\" >25.090000</td>\n",
       "      <td id=\"T_15b6d_row1_col1\" class=\"data row1 col1\" >175.360000</td>\n",
       "      <td id=\"T_15b6d_row1_col2\" class=\"data row1 col2\" >70.670000</td>\n",
       "    </tr>\n",
       "    <tr>\n",
       "      <th id=\"T_15b6d_level0_row2\" class=\"row_heading level0 row2\" >std</th>\n",
       "      <td id=\"T_15b6d_row2_col0\" class=\"data row2 col0\" >5.500000</td>\n",
       "      <td id=\"T_15b6d_row2_col1\" class=\"data row2 col1\" >10.520000</td>\n",
       "      <td id=\"T_15b6d_row2_col2\" class=\"data row2 col2\" >14.350000</td>\n",
       "    </tr>\n",
       "    <tr>\n",
       "      <th id=\"T_15b6d_level0_row3\" class=\"row_heading level0 row3\" >min</th>\n",
       "      <td id=\"T_15b6d_row3_col0\" class=\"data row3 col0\" >11.000000</td>\n",
       "      <td id=\"T_15b6d_row3_col1\" class=\"data row3 col1\" >132.000000</td>\n",
       "      <td id=\"T_15b6d_row3_col2\" class=\"data row3 col2\" >28.000000</td>\n",
       "    </tr>\n",
       "    <tr>\n",
       "      <th id=\"T_15b6d_level0_row4\" class=\"row_heading level0 row4\" >25%</th>\n",
       "      <td id=\"T_15b6d_row4_col0\" class=\"data row4 col0\" >21.000000</td>\n",
       "      <td id=\"T_15b6d_row4_col1\" class=\"data row4 col1\" >168.000000</td>\n",
       "      <td id=\"T_15b6d_row4_col2\" class=\"data row4 col2\" >60.000000</td>\n",
       "    </tr>\n",
       "    <tr>\n",
       "      <th id=\"T_15b6d_level0_row5\" class=\"row_heading level0 row5\" >50%</th>\n",
       "      <td id=\"T_15b6d_row5_col0\" class=\"data row5 col0\" >24.000000</td>\n",
       "      <td id=\"T_15b6d_row5_col1\" class=\"data row5 col1\" >175.000000</td>\n",
       "      <td id=\"T_15b6d_row5_col2\" class=\"data row5 col2\" >70.000000</td>\n",
       "    </tr>\n",
       "    <tr>\n",
       "      <th id=\"T_15b6d_level0_row6\" class=\"row_heading level0 row6\" >75%</th>\n",
       "      <td id=\"T_15b6d_row6_col0\" class=\"data row6 col0\" >28.000000</td>\n",
       "      <td id=\"T_15b6d_row6_col1\" class=\"data row6 col1\" >183.000000</td>\n",
       "      <td id=\"T_15b6d_row6_col2\" class=\"data row6 col2\" >79.000000</td>\n",
       "    </tr>\n",
       "    <tr>\n",
       "      <th id=\"T_15b6d_level0_row7\" class=\"row_heading level0 row7\" >max</th>\n",
       "      <td id=\"T_15b6d_row7_col0\" class=\"data row7 col0\" >70.000000</td>\n",
       "      <td id=\"T_15b6d_row7_col1\" class=\"data row7 col1\" >226.000000</td>\n",
       "      <td id=\"T_15b6d_row7_col2\" class=\"data row7 col2\" >190.000000</td>\n",
       "    </tr>\n",
       "  </tbody>\n",
       "</table>\n"
      ]
     },
     "metadata": {},
     "output_type": "display_data"
    }
   ],
   "source": [
    "title1 = 'df_describe'\n",
    "title2 = 'random1_describe'\n",
    "side_by_side_df(df_describe, random1_describe,title1, title2)"
   ]
  },
  {
   "cell_type": "markdown",
   "id": "71406704",
   "metadata": {},
   "source": [
    "Overall we can see that the summary of statistics does not vary that much if we take a sample of the original dataset. Some min and max values may change a little but measures like, mean, standard deviation and quartiles are quite similar.\n",
    "\n",
    "We can also do a random sampling **choosing the percentage of the data we want to sample**, for instance, if we want to sample the 10% of our data we can do:"
   ]
  },
  {
   "cell_type": "code",
   "execution_count": 47,
   "id": "0c5d43e0",
   "metadata": {
    "ExecuteTime": {
     "end_time": "2022-03-07T22:05:51.204280Z",
     "start_time": "2022-03-07T22:05:51.174693Z"
    }
   },
   "outputs": [
    {
     "data": {
      "text/plain": [
       "(20616, 15)"
      ]
     },
     "execution_count": 47,
     "metadata": {},
     "output_type": "execute_result"
    }
   ],
   "source": [
    "random2 = df.sample(frac = 0.1, random_state = 42)\n",
    "random2.shape"
   ]
  },
  {
   "cell_type": "markdown",
   "id": "233d22eb",
   "metadata": {},
   "source": [
    "We now have 20616 rows in our dataframe (10% of the original). We can compare its summary statistics with the original dataframe too:"
   ]
  },
  {
   "cell_type": "code",
   "execution_count": 48,
   "id": "7c6594a0",
   "metadata": {
    "ExecuteTime": {
     "end_time": "2022-03-07T22:05:51.234798Z",
     "start_time": "2022-03-07T22:05:51.206283Z"
    }
   },
   "outputs": [
    {
     "data": {
      "text/html": [
       "<style type=\"text/css\">\n",
       "</style>\n",
       "<table id=\"T_e9361\" style='display:inline'>\n",
       "  <caption>df_describe</caption>\n",
       "  <thead>\n",
       "    <tr>\n",
       "      <th class=\"blank level0\" >&nbsp;</th>\n",
       "      <th id=\"T_e9361_level0_col0\" class=\"col_heading level0 col0\" >Age</th>\n",
       "      <th id=\"T_e9361_level0_col1\" class=\"col_heading level0 col1\" >Height</th>\n",
       "      <th id=\"T_e9361_level0_col2\" class=\"col_heading level0 col2\" >Weight</th>\n",
       "    </tr>\n",
       "  </thead>\n",
       "  <tbody>\n",
       "    <tr>\n",
       "      <th id=\"T_e9361_level0_row0\" class=\"row_heading level0 row0\" >count</th>\n",
       "      <td id=\"T_e9361_row0_col0\" class=\"data row0 col0\" >206165.000000</td>\n",
       "      <td id=\"T_e9361_row0_col1\" class=\"data row0 col1\" >206165.000000</td>\n",
       "      <td id=\"T_e9361_row0_col2\" class=\"data row0 col2\" >206165.000000</td>\n",
       "    </tr>\n",
       "    <tr>\n",
       "      <th id=\"T_e9361_level0_row1\" class=\"row_heading level0 row1\" >mean</th>\n",
       "      <td id=\"T_e9361_row1_col0\" class=\"data row1 col0\" >25.060000</td>\n",
       "      <td id=\"T_e9361_row1_col1\" class=\"data row1 col1\" >175.370000</td>\n",
       "      <td id=\"T_e9361_row1_col2\" class=\"data row1 col2\" >70.690000</td>\n",
       "    </tr>\n",
       "    <tr>\n",
       "      <th id=\"T_e9361_level0_row2\" class=\"row_heading level0 row2\" >std</th>\n",
       "      <td id=\"T_e9361_row2_col0\" class=\"data row2 col0\" >5.480000</td>\n",
       "      <td id=\"T_e9361_row2_col1\" class=\"data row2 col1\" >10.550000</td>\n",
       "      <td id=\"T_e9361_row2_col2\" class=\"data row2 col2\" >14.340000</td>\n",
       "    </tr>\n",
       "    <tr>\n",
       "      <th id=\"T_e9361_level0_row3\" class=\"row_heading level0 row3\" >min</th>\n",
       "      <td id=\"T_e9361_row3_col0\" class=\"data row3 col0\" >11.000000</td>\n",
       "      <td id=\"T_e9361_row3_col1\" class=\"data row3 col1\" >127.000000</td>\n",
       "      <td id=\"T_e9361_row3_col2\" class=\"data row3 col2\" >25.000000</td>\n",
       "    </tr>\n",
       "    <tr>\n",
       "      <th id=\"T_e9361_level0_row4\" class=\"row_heading level0 row4\" >25%</th>\n",
       "      <td id=\"T_e9361_row4_col0\" class=\"data row4 col0\" >21.000000</td>\n",
       "      <td id=\"T_e9361_row4_col1\" class=\"data row4 col1\" >168.000000</td>\n",
       "      <td id=\"T_e9361_row4_col2\" class=\"data row4 col2\" >60.000000</td>\n",
       "    </tr>\n",
       "    <tr>\n",
       "      <th id=\"T_e9361_level0_row5\" class=\"row_heading level0 row5\" >50%</th>\n",
       "      <td id=\"T_e9361_row5_col0\" class=\"data row5 col0\" >24.000000</td>\n",
       "      <td id=\"T_e9361_row5_col1\" class=\"data row5 col1\" >175.000000</td>\n",
       "      <td id=\"T_e9361_row5_col2\" class=\"data row5 col2\" >70.000000</td>\n",
       "    </tr>\n",
       "    <tr>\n",
       "      <th id=\"T_e9361_level0_row6\" class=\"row_heading level0 row6\" >75%</th>\n",
       "      <td id=\"T_e9361_row6_col0\" class=\"data row6 col0\" >28.000000</td>\n",
       "      <td id=\"T_e9361_row6_col1\" class=\"data row6 col1\" >183.000000</td>\n",
       "      <td id=\"T_e9361_row6_col2\" class=\"data row6 col2\" >79.000000</td>\n",
       "    </tr>\n",
       "    <tr>\n",
       "      <th id=\"T_e9361_level0_row7\" class=\"row_heading level0 row7\" >max</th>\n",
       "      <td id=\"T_e9361_row7_col0\" class=\"data row7 col0\" >71.000000</td>\n",
       "      <td id=\"T_e9361_row7_col1\" class=\"data row7 col1\" >226.000000</td>\n",
       "      <td id=\"T_e9361_row7_col2\" class=\"data row7 col2\" >214.000000</td>\n",
       "    </tr>\n",
       "  </tbody>\n",
       "</table>\n",
       "          <style type=\"text/css\">\n",
       "</style>\n",
       "<table id=\"T_f4fa8\" style='display:inline'>\n",
       "  <caption>random2_describe</caption>\n",
       "  <thead>\n",
       "    <tr>\n",
       "      <th class=\"blank level0\" >&nbsp;</th>\n",
       "      <th id=\"T_f4fa8_level0_col0\" class=\"col_heading level0 col0\" >Age</th>\n",
       "      <th id=\"T_f4fa8_level0_col1\" class=\"col_heading level0 col1\" >Height</th>\n",
       "      <th id=\"T_f4fa8_level0_col2\" class=\"col_heading level0 col2\" >Weight</th>\n",
       "    </tr>\n",
       "  </thead>\n",
       "  <tbody>\n",
       "    <tr>\n",
       "      <th id=\"T_f4fa8_level0_row0\" class=\"row_heading level0 row0\" >count</th>\n",
       "      <td id=\"T_f4fa8_row0_col0\" class=\"data row0 col0\" >20616.000000</td>\n",
       "      <td id=\"T_f4fa8_row0_col1\" class=\"data row0 col1\" >20616.000000</td>\n",
       "      <td id=\"T_f4fa8_row0_col2\" class=\"data row0 col2\" >20616.000000</td>\n",
       "    </tr>\n",
       "    <tr>\n",
       "      <th id=\"T_f4fa8_level0_row1\" class=\"row_heading level0 row1\" >mean</th>\n",
       "      <td id=\"T_f4fa8_row1_col0\" class=\"data row1 col0\" >25.063931</td>\n",
       "      <td id=\"T_f4fa8_row1_col1\" class=\"data row1 col1\" >175.378589</td>\n",
       "      <td id=\"T_f4fa8_row1_col2\" class=\"data row1 col2\" >70.674500</td>\n",
       "    </tr>\n",
       "    <tr>\n",
       "      <th id=\"T_f4fa8_level0_row2\" class=\"row_heading level0 row2\" >std</th>\n",
       "      <td id=\"T_f4fa8_row2_col0\" class=\"data row2 col0\" >5.492392</td>\n",
       "      <td id=\"T_f4fa8_row2_col1\" class=\"data row2 col1\" >10.496471</td>\n",
       "      <td id=\"T_f4fa8_row2_col2\" class=\"data row2 col2\" >14.221993</td>\n",
       "    </tr>\n",
       "    <tr>\n",
       "      <th id=\"T_f4fa8_level0_row3\" class=\"row_heading level0 row3\" >min</th>\n",
       "      <td id=\"T_f4fa8_row3_col0\" class=\"data row3 col0\" >11.000000</td>\n",
       "      <td id=\"T_f4fa8_row3_col1\" class=\"data row3 col1\" >132.000000</td>\n",
       "      <td id=\"T_f4fa8_row3_col2\" class=\"data row3 col2\" >28.000000</td>\n",
       "    </tr>\n",
       "    <tr>\n",
       "      <th id=\"T_f4fa8_level0_row4\" class=\"row_heading level0 row4\" >25%</th>\n",
       "      <td id=\"T_f4fa8_row4_col0\" class=\"data row4 col0\" >21.000000</td>\n",
       "      <td id=\"T_f4fa8_row4_col1\" class=\"data row4 col1\" >168.000000</td>\n",
       "      <td id=\"T_f4fa8_row4_col2\" class=\"data row4 col2\" >60.000000</td>\n",
       "    </tr>\n",
       "    <tr>\n",
       "      <th id=\"T_f4fa8_level0_row5\" class=\"row_heading level0 row5\" >50%</th>\n",
       "      <td id=\"T_f4fa8_row5_col0\" class=\"data row5 col0\" >24.000000</td>\n",
       "      <td id=\"T_f4fa8_row5_col1\" class=\"data row5 col1\" >175.000000</td>\n",
       "      <td id=\"T_f4fa8_row5_col2\" class=\"data row5 col2\" >70.000000</td>\n",
       "    </tr>\n",
       "    <tr>\n",
       "      <th id=\"T_f4fa8_level0_row6\" class=\"row_heading level0 row6\" >75%</th>\n",
       "      <td id=\"T_f4fa8_row6_col0\" class=\"data row6 col0\" >28.000000</td>\n",
       "      <td id=\"T_f4fa8_row6_col1\" class=\"data row6 col1\" >183.000000</td>\n",
       "      <td id=\"T_f4fa8_row6_col2\" class=\"data row6 col2\" >79.000000</td>\n",
       "    </tr>\n",
       "    <tr>\n",
       "      <th id=\"T_f4fa8_level0_row7\" class=\"row_heading level0 row7\" >max</th>\n",
       "      <td id=\"T_f4fa8_row7_col0\" class=\"data row7 col0\" >70.000000</td>\n",
       "      <td id=\"T_f4fa8_row7_col1\" class=\"data row7 col1\" >223.000000</td>\n",
       "      <td id=\"T_f4fa8_row7_col2\" class=\"data row7 col2\" >182.000000</td>\n",
       "    </tr>\n",
       "  </tbody>\n",
       "</table>\n"
      ]
     },
     "metadata": {},
     "output_type": "display_data"
    }
   ],
   "source": [
    "random2_describe = random2[['Age', 'Height', 'Weight']].describe()\n",
    "\n",
    "title1 = 'df_describe'\n",
    "title2 = 'random2_describe'\n",
    "side_by_side_df(df_describe, random2_describe,title1, title2)"
   ]
  },
  {
   "cell_type": "markdown",
   "id": "97b31b0f",
   "metadata": {},
   "source": [
    "As before, we can see the summary statistics doesn't vary that much after doing the sampling."
   ]
  },
  {
   "cell_type": "markdown",
   "id": "6899e203",
   "metadata": {},
   "source": [
    "### Systematic random sampling\n",
    "\n",
    "In this case, we´ll use a random starting point and a fixed periodic interval.\n",
    "\n",
    "First, we need to decide which size we want the sample to be. Let´s say we want a **sample of aproximately 5000 rows**, we can do:\n"
   ]
  },
  {
   "cell_type": "code",
   "execution_count": 49,
   "id": "0bd531b2",
   "metadata": {
    "ExecuteTime": {
     "end_time": "2022-03-07T22:05:51.250110Z",
     "start_time": "2022-03-07T22:05:51.236699Z"
    }
   },
   "outputs": [
    {
     "data": {
      "text/plain": [
       "(5028, 15)"
      ]
     },
     "execution_count": 49,
     "metadata": {},
     "output_type": "execute_result"
    }
   ],
   "source": [
    "final_rows = 5000\n",
    "interval = math.floor(len(df)/final_rows)\n",
    "\n",
    "# we randomnly assign a starting point between 1 and our interval: \n",
    "random_number = random.randint(1, interval)\n",
    "\n",
    "# now we can define our funcion: \n",
    "def systematic_random_samplig(df): \n",
    "    rows = np.arange(random_number, len(df), interval)\n",
    "    sampled_df = df.iloc[rows]\n",
    "    return sampled_df\n",
    "\n",
    "systematic_sampling_df = systematic_random_samplig(df)\n",
    "systematic_sampling_df.shape"
   ]
  },
  {
   "cell_type": "markdown",
   "id": "b5725f8a",
   "metadata": {},
   "source": [
    "We have now 5029 rows in our sample. Again we will compare the summary statistics with the original dataframe:"
   ]
  },
  {
   "cell_type": "code",
   "execution_count": 50,
   "id": "99de8a92",
   "metadata": {
    "ExecuteTime": {
     "end_time": "2022-03-07T22:05:51.282019Z",
     "start_time": "2022-03-07T22:05:51.253102Z"
    }
   },
   "outputs": [
    {
     "data": {
      "text/html": [
       "<style type=\"text/css\">\n",
       "</style>\n",
       "<table id=\"T_fa4b9\" style='display:inline'>\n",
       "  <caption>df_describe</caption>\n",
       "  <thead>\n",
       "    <tr>\n",
       "      <th class=\"blank level0\" >&nbsp;</th>\n",
       "      <th id=\"T_fa4b9_level0_col0\" class=\"col_heading level0 col0\" >Age</th>\n",
       "      <th id=\"T_fa4b9_level0_col1\" class=\"col_heading level0 col1\" >Height</th>\n",
       "      <th id=\"T_fa4b9_level0_col2\" class=\"col_heading level0 col2\" >Weight</th>\n",
       "    </tr>\n",
       "  </thead>\n",
       "  <tbody>\n",
       "    <tr>\n",
       "      <th id=\"T_fa4b9_level0_row0\" class=\"row_heading level0 row0\" >count</th>\n",
       "      <td id=\"T_fa4b9_row0_col0\" class=\"data row0 col0\" >206165.000000</td>\n",
       "      <td id=\"T_fa4b9_row0_col1\" class=\"data row0 col1\" >206165.000000</td>\n",
       "      <td id=\"T_fa4b9_row0_col2\" class=\"data row0 col2\" >206165.000000</td>\n",
       "    </tr>\n",
       "    <tr>\n",
       "      <th id=\"T_fa4b9_level0_row1\" class=\"row_heading level0 row1\" >mean</th>\n",
       "      <td id=\"T_fa4b9_row1_col0\" class=\"data row1 col0\" >25.060000</td>\n",
       "      <td id=\"T_fa4b9_row1_col1\" class=\"data row1 col1\" >175.370000</td>\n",
       "      <td id=\"T_fa4b9_row1_col2\" class=\"data row1 col2\" >70.690000</td>\n",
       "    </tr>\n",
       "    <tr>\n",
       "      <th id=\"T_fa4b9_level0_row2\" class=\"row_heading level0 row2\" >std</th>\n",
       "      <td id=\"T_fa4b9_row2_col0\" class=\"data row2 col0\" >5.480000</td>\n",
       "      <td id=\"T_fa4b9_row2_col1\" class=\"data row2 col1\" >10.550000</td>\n",
       "      <td id=\"T_fa4b9_row2_col2\" class=\"data row2 col2\" >14.340000</td>\n",
       "    </tr>\n",
       "    <tr>\n",
       "      <th id=\"T_fa4b9_level0_row3\" class=\"row_heading level0 row3\" >min</th>\n",
       "      <td id=\"T_fa4b9_row3_col0\" class=\"data row3 col0\" >11.000000</td>\n",
       "      <td id=\"T_fa4b9_row3_col1\" class=\"data row3 col1\" >127.000000</td>\n",
       "      <td id=\"T_fa4b9_row3_col2\" class=\"data row3 col2\" >25.000000</td>\n",
       "    </tr>\n",
       "    <tr>\n",
       "      <th id=\"T_fa4b9_level0_row4\" class=\"row_heading level0 row4\" >25%</th>\n",
       "      <td id=\"T_fa4b9_row4_col0\" class=\"data row4 col0\" >21.000000</td>\n",
       "      <td id=\"T_fa4b9_row4_col1\" class=\"data row4 col1\" >168.000000</td>\n",
       "      <td id=\"T_fa4b9_row4_col2\" class=\"data row4 col2\" >60.000000</td>\n",
       "    </tr>\n",
       "    <tr>\n",
       "      <th id=\"T_fa4b9_level0_row5\" class=\"row_heading level0 row5\" >50%</th>\n",
       "      <td id=\"T_fa4b9_row5_col0\" class=\"data row5 col0\" >24.000000</td>\n",
       "      <td id=\"T_fa4b9_row5_col1\" class=\"data row5 col1\" >175.000000</td>\n",
       "      <td id=\"T_fa4b9_row5_col2\" class=\"data row5 col2\" >70.000000</td>\n",
       "    </tr>\n",
       "    <tr>\n",
       "      <th id=\"T_fa4b9_level0_row6\" class=\"row_heading level0 row6\" >75%</th>\n",
       "      <td id=\"T_fa4b9_row6_col0\" class=\"data row6 col0\" >28.000000</td>\n",
       "      <td id=\"T_fa4b9_row6_col1\" class=\"data row6 col1\" >183.000000</td>\n",
       "      <td id=\"T_fa4b9_row6_col2\" class=\"data row6 col2\" >79.000000</td>\n",
       "    </tr>\n",
       "    <tr>\n",
       "      <th id=\"T_fa4b9_level0_row7\" class=\"row_heading level0 row7\" >max</th>\n",
       "      <td id=\"T_fa4b9_row7_col0\" class=\"data row7 col0\" >71.000000</td>\n",
       "      <td id=\"T_fa4b9_row7_col1\" class=\"data row7 col1\" >226.000000</td>\n",
       "      <td id=\"T_fa4b9_row7_col2\" class=\"data row7 col2\" >214.000000</td>\n",
       "    </tr>\n",
       "  </tbody>\n",
       "</table>\n",
       "          <style type=\"text/css\">\n",
       "</style>\n",
       "<table id=\"T_8392a\" style='display:inline'>\n",
       "  <caption>systematic_describe</caption>\n",
       "  <thead>\n",
       "    <tr>\n",
       "      <th class=\"blank level0\" >&nbsp;</th>\n",
       "      <th id=\"T_8392a_level0_col0\" class=\"col_heading level0 col0\" >Age</th>\n",
       "      <th id=\"T_8392a_level0_col1\" class=\"col_heading level0 col1\" >Height</th>\n",
       "      <th id=\"T_8392a_level0_col2\" class=\"col_heading level0 col2\" >Weight</th>\n",
       "    </tr>\n",
       "  </thead>\n",
       "  <tbody>\n",
       "    <tr>\n",
       "      <th id=\"T_8392a_level0_row0\" class=\"row_heading level0 row0\" >count</th>\n",
       "      <td id=\"T_8392a_row0_col0\" class=\"data row0 col0\" >5028.000000</td>\n",
       "      <td id=\"T_8392a_row0_col1\" class=\"data row0 col1\" >5028.000000</td>\n",
       "      <td id=\"T_8392a_row0_col2\" class=\"data row0 col2\" >5028.000000</td>\n",
       "    </tr>\n",
       "    <tr>\n",
       "      <th id=\"T_8392a_level0_row1\" class=\"row_heading level0 row1\" >mean</th>\n",
       "      <td id=\"T_8392a_row1_col0\" class=\"data row1 col0\" >25.050000</td>\n",
       "      <td id=\"T_8392a_row1_col1\" class=\"data row1 col1\" >175.400000</td>\n",
       "      <td id=\"T_8392a_row1_col2\" class=\"data row1 col2\" >70.700000</td>\n",
       "    </tr>\n",
       "    <tr>\n",
       "      <th id=\"T_8392a_level0_row2\" class=\"row_heading level0 row2\" >std</th>\n",
       "      <td id=\"T_8392a_row2_col0\" class=\"data row2 col0\" >5.490000</td>\n",
       "      <td id=\"T_8392a_row2_col1\" class=\"data row2 col1\" >10.570000</td>\n",
       "      <td id=\"T_8392a_row2_col2\" class=\"data row2 col2\" >14.310000</td>\n",
       "    </tr>\n",
       "    <tr>\n",
       "      <th id=\"T_8392a_level0_row3\" class=\"row_heading level0 row3\" >min</th>\n",
       "      <td id=\"T_8392a_row3_col0\" class=\"data row3 col0\" >12.000000</td>\n",
       "      <td id=\"T_8392a_row3_col1\" class=\"data row3 col1\" >135.000000</td>\n",
       "      <td id=\"T_8392a_row3_col2\" class=\"data row3 col2\" >28.000000</td>\n",
       "    </tr>\n",
       "    <tr>\n",
       "      <th id=\"T_8392a_level0_row4\" class=\"row_heading level0 row4\" >25%</th>\n",
       "      <td id=\"T_8392a_row4_col0\" class=\"data row4 col0\" >21.000000</td>\n",
       "      <td id=\"T_8392a_row4_col1\" class=\"data row4 col1\" >168.000000</td>\n",
       "      <td id=\"T_8392a_row4_col2\" class=\"data row4 col2\" >60.000000</td>\n",
       "    </tr>\n",
       "    <tr>\n",
       "      <th id=\"T_8392a_level0_row5\" class=\"row_heading level0 row5\" >50%</th>\n",
       "      <td id=\"T_8392a_row5_col0\" class=\"data row5 col0\" >24.000000</td>\n",
       "      <td id=\"T_8392a_row5_col1\" class=\"data row5 col1\" >175.000000</td>\n",
       "      <td id=\"T_8392a_row5_col2\" class=\"data row5 col2\" >70.000000</td>\n",
       "    </tr>\n",
       "    <tr>\n",
       "      <th id=\"T_8392a_level0_row6\" class=\"row_heading level0 row6\" >75%</th>\n",
       "      <td id=\"T_8392a_row6_col0\" class=\"data row6 col0\" >28.000000</td>\n",
       "      <td id=\"T_8392a_row6_col1\" class=\"data row6 col1\" >183.000000</td>\n",
       "      <td id=\"T_8392a_row6_col2\" class=\"data row6 col2\" >79.000000</td>\n",
       "    </tr>\n",
       "    <tr>\n",
       "      <th id=\"T_8392a_level0_row7\" class=\"row_heading level0 row7\" >max</th>\n",
       "      <td id=\"T_8392a_row7_col0\" class=\"data row7 col0\" >66.000000</td>\n",
       "      <td id=\"T_8392a_row7_col1\" class=\"data row7 col1\" >215.000000</td>\n",
       "      <td id=\"T_8392a_row7_col2\" class=\"data row7 col2\" >160.000000</td>\n",
       "    </tr>\n",
       "  </tbody>\n",
       "</table>\n"
      ]
     },
     "metadata": {},
     "output_type": "display_data"
    }
   ],
   "source": [
    "systematic_describe = systematic_sampling_df[['Age', 'Height', 'Weight']].describe().round(2)\n",
    "\n",
    "title1 = 'df_describe'\n",
    "title2 = 'systematic_describe'\n",
    "side_by_side_df(df_describe, systematic_describe,title1, title2)"
   ]
  },
  {
   "cell_type": "markdown",
   "id": "0f5bcdd4",
   "metadata": {},
   "source": [
    "Even though the sampling now is significantly smaller than the previous samples (only 5029 rows), we can see that the mean, standard deviation and even the quartiles remain quite similar."
   ]
  },
  {
   "cell_type": "markdown",
   "id": "73cce41c",
   "metadata": {},
   "source": [
    "## **Exercici 2**"
   ]
  },
  {
   "cell_type": "markdown",
   "id": "d9f72554",
   "metadata": {
    "ExecuteTime": {
     "end_time": "2022-03-07T18:12:34.501851Z",
     "start_time": "2022-03-07T18:12:34.484136Z"
    }
   },
   "source": [
    "Continua amb el conjunt de dades de tema esportiu i genera una mostra estratificada i una mostra utilitzant SMOTE (Synthetic Minority Oversampling Technique)."
   ]
  },
  {
   "cell_type": "markdown",
   "id": "e893e275",
   "metadata": {},
   "source": [
    "### Stratified Sampling\n",
    "\n",
    "Stratified sampling means dividing first the data in groups and then sampling randomnly inside those groups.\n",
    "\n",
    "For stratified sampling we can do either:\n",
    "\n",
    "+ **Disproportionate sampling:** the sample size of each group is not proportional to the population size of the group.\n",
    "+ **Proportionate sampling:** the sample size of each groups is proportional to the population size of the group.\n",
    "\n",
    "Now let´s see an example of **disproportionate sampling** in which we´ll divide the athletes by **male or female** and generate equally random samples for each group:"
   ]
  },
  {
   "cell_type": "code",
   "execution_count": 51,
   "id": "62f57d7e",
   "metadata": {
    "ExecuteTime": {
     "end_time": "2022-03-07T22:05:51.360361Z",
     "start_time": "2022-03-07T22:05:51.285014Z"
    }
   },
   "outputs": [
    {
     "data": {
      "text/plain": [
       "(1000, 15)"
      ]
     },
     "execution_count": 51,
     "metadata": {},
     "output_type": "execute_result"
    }
   ],
   "source": [
    "# we´ll define the size of the sample, we want to have 500 males and 500 females: \n",
    "strat1 = df.groupby('Sex', group_keys = False).apply(lambda x: x.sample(500, random_state = 42))\n",
    "strat1.shape"
   ]
  },
  {
   "cell_type": "code",
   "execution_count": 52,
   "id": "f0ece341",
   "metadata": {
    "ExecuteTime": {
     "end_time": "2022-03-07T22:05:51.375930Z",
     "start_time": "2022-03-07T22:05:51.362697Z"
    }
   },
   "outputs": [
    {
     "data": {
      "text/plain": [
       "F    500\n",
       "M    500\n",
       "Name: Sex, dtype: int64"
      ]
     },
     "execution_count": 52,
     "metadata": {},
     "output_type": "execute_result"
    }
   ],
   "source": [
    "# we check if the sample is 500 male and 500 female: \n",
    "strat1.Sex.value_counts()"
   ]
  },
  {
   "cell_type": "markdown",
   "id": "ec6e2b70",
   "metadata": {},
   "source": [
    "Now we´ll do a **Stratified Proportionate Sample**. First, we will look at percentages between male and female athletes in the original dataset:"
   ]
  },
  {
   "cell_type": "code",
   "execution_count": 53,
   "id": "e759a6a2",
   "metadata": {
    "ExecuteTime": {
     "end_time": "2022-03-07T22:05:51.407235Z",
     "start_time": "2022-03-07T22:05:51.376920Z"
    }
   },
   "outputs": [
    {
     "data": {
      "text/html": [
       "<div>\n",
       "<style scoped>\n",
       "    .dataframe tbody tr th:only-of-type {\n",
       "        vertical-align: middle;\n",
       "    }\n",
       "\n",
       "    .dataframe tbody tr th {\n",
       "        vertical-align: top;\n",
       "    }\n",
       "\n",
       "    .dataframe thead th {\n",
       "        text-align: right;\n",
       "    }\n",
       "</style>\n",
       "<table border=\"1\" class=\"dataframe\">\n",
       "  <thead>\n",
       "    <tr style=\"text-align: right;\">\n",
       "      <th></th>\n",
       "      <th>index</th>\n",
       "      <th>Sex</th>\n",
       "    </tr>\n",
       "  </thead>\n",
       "  <tbody>\n",
       "    <tr>\n",
       "      <th>0</th>\n",
       "      <td>M</td>\n",
       "      <td>67.64%</td>\n",
       "    </tr>\n",
       "    <tr>\n",
       "      <th>1</th>\n",
       "      <td>F</td>\n",
       "      <td>32.36%</td>\n",
       "    </tr>\n",
       "  </tbody>\n",
       "</table>\n",
       "</div>"
      ],
      "text/plain": [
       "  index     Sex\n",
       "0     M  67.64%\n",
       "1     F  32.36%"
      ]
     },
     "execution_count": 53,
     "metadata": {},
     "output_type": "execute_result"
    }
   ],
   "source": [
    "gender = df.Sex.value_counts(normalize=True).mul(100).round(2).astype(str) + '%'\n",
    "gender.reset_index()"
   ]
  },
  {
   "cell_type": "markdown",
   "id": "1171e820",
   "metadata": {},
   "source": [
    "Now we will do the stratified proportionate sample, in this case we want the **sample size to be the 15%** of the original:"
   ]
  },
  {
   "cell_type": "code",
   "execution_count": 54,
   "id": "57d92463",
   "metadata": {
    "ExecuteTime": {
     "end_time": "2022-03-07T22:05:51.517218Z",
     "start_time": "2022-03-07T22:05:51.408235Z"
    }
   },
   "outputs": [
    {
     "data": {
      "text/html": [
       "<div>\n",
       "<style scoped>\n",
       "    .dataframe tbody tr th:only-of-type {\n",
       "        vertical-align: middle;\n",
       "    }\n",
       "\n",
       "    .dataframe tbody tr th {\n",
       "        vertical-align: top;\n",
       "    }\n",
       "\n",
       "    .dataframe thead th {\n",
       "        text-align: right;\n",
       "    }\n",
       "</style>\n",
       "<table border=\"1\" class=\"dataframe\">\n",
       "  <thead>\n",
       "    <tr style=\"text-align: right;\">\n",
       "      <th></th>\n",
       "      <th>ID</th>\n",
       "      <th>Name</th>\n",
       "      <th>Sex</th>\n",
       "      <th>Age</th>\n",
       "      <th>Height</th>\n",
       "      <th>Weight</th>\n",
       "      <th>Team</th>\n",
       "      <th>NOC</th>\n",
       "      <th>Games</th>\n",
       "      <th>Year</th>\n",
       "      <th>Season</th>\n",
       "      <th>City</th>\n",
       "      <th>Sport</th>\n",
       "      <th>Event</th>\n",
       "      <th>Medal</th>\n",
       "    </tr>\n",
       "  </thead>\n",
       "  <tbody>\n",
       "    <tr>\n",
       "      <th>168450</th>\n",
       "      <td>84660</td>\n",
       "      <td>Liliana Nstase (-Alexandru)</td>\n",
       "      <td>F</td>\n",
       "      <td>29.0</td>\n",
       "      <td>170.0</td>\n",
       "      <td>65.0</td>\n",
       "      <td>Romania</td>\n",
       "      <td>ROU</td>\n",
       "      <td>1992 Summer</td>\n",
       "      <td>1992</td>\n",
       "      <td>Summer</td>\n",
       "      <td>Barcelona</td>\n",
       "      <td>Athletics</td>\n",
       "      <td>Athletics Women's 100 metres Hurdles</td>\n",
       "      <td>NaN</td>\n",
       "    </tr>\n",
       "    <tr>\n",
       "      <th>128186</th>\n",
       "      <td>64554</td>\n",
       "      <td>Nataliya Kubrina</td>\n",
       "      <td>F</td>\n",
       "      <td>33.0</td>\n",
       "      <td>172.0</td>\n",
       "      <td>60.0</td>\n",
       "      <td>Kazakhstan</td>\n",
       "      <td>KAZ</td>\n",
       "      <td>2008 Summer</td>\n",
       "      <td>2008</td>\n",
       "      <td>Summer</td>\n",
       "      <td>Beijing</td>\n",
       "      <td>Handball</td>\n",
       "      <td>Handball Women's Handball</td>\n",
       "      <td>NaN</td>\n",
       "    </tr>\n",
       "    <tr>\n",
       "      <th>207518</th>\n",
       "      <td>104116</td>\n",
       "      <td>Hiroko Sadakane</td>\n",
       "      <td>F</td>\n",
       "      <td>23.0</td>\n",
       "      <td>160.0</td>\n",
       "      <td>52.0</td>\n",
       "      <td>Japan</td>\n",
       "      <td>JPN</td>\n",
       "      <td>2010 Winter</td>\n",
       "      <td>2010</td>\n",
       "      <td>Winter</td>\n",
       "      <td>Vancouver</td>\n",
       "      <td>Short Track Speed Skating</td>\n",
       "      <td>Short Track Speed Skating Women's 3,000 metres...</td>\n",
       "      <td>NaN</td>\n",
       "    </tr>\n",
       "    <tr>\n",
       "      <th>172749</th>\n",
       "      <td>86793</td>\n",
       "      <td>Katja Nolten</td>\n",
       "      <td>F</td>\n",
       "      <td>18.0</td>\n",
       "      <td>175.0</td>\n",
       "      <td>66.0</td>\n",
       "      <td>West Germany</td>\n",
       "      <td>FRG</td>\n",
       "      <td>1988 Summer</td>\n",
       "      <td>1988</td>\n",
       "      <td>Summer</td>\n",
       "      <td>Seoul</td>\n",
       "      <td>Table Tennis</td>\n",
       "      <td>Table Tennis Women's Singles</td>\n",
       "      <td>NaN</td>\n",
       "    </tr>\n",
       "    <tr>\n",
       "      <th>112826</th>\n",
       "      <td>57156</td>\n",
       "      <td>Yevgeniya Olegovna Kanayeva</td>\n",
       "      <td>F</td>\n",
       "      <td>18.0</td>\n",
       "      <td>168.0</td>\n",
       "      <td>42.0</td>\n",
       "      <td>Russia</td>\n",
       "      <td>RUS</td>\n",
       "      <td>2008 Summer</td>\n",
       "      <td>2008</td>\n",
       "      <td>Summer</td>\n",
       "      <td>Beijing</td>\n",
       "      <td>Rhythmic Gymnastics</td>\n",
       "      <td>Rhythmic Gymnastics Women's Individual</td>\n",
       "      <td>Gold</td>\n",
       "    </tr>\n",
       "  </tbody>\n",
       "</table>\n",
       "</div>"
      ],
      "text/plain": [
       "            ID                         Name Sex   Age  Height  Weight  \\\n",
       "168450   84660  Liliana Nstase (-Alexandru)   F  29.0   170.0    65.0   \n",
       "128186   64554             Nataliya Kubrina   F  33.0   172.0    60.0   \n",
       "207518  104116              Hiroko Sadakane   F  23.0   160.0    52.0   \n",
       "172749   86793                 Katja Nolten   F  18.0   175.0    66.0   \n",
       "112826   57156  Yevgeniya Olegovna Kanayeva   F  18.0   168.0    42.0   \n",
       "\n",
       "                Team  NOC        Games  Year  Season       City  \\\n",
       "168450       Romania  ROU  1992 Summer  1992  Summer  Barcelona   \n",
       "128186    Kazakhstan  KAZ  2008 Summer  2008  Summer    Beijing   \n",
       "207518         Japan  JPN  2010 Winter  2010  Winter  Vancouver   \n",
       "172749  West Germany  FRG  1988 Summer  1988  Summer      Seoul   \n",
       "112826        Russia  RUS  2008 Summer  2008  Summer    Beijing   \n",
       "\n",
       "                            Sport  \\\n",
       "168450                  Athletics   \n",
       "128186                   Handball   \n",
       "207518  Short Track Speed Skating   \n",
       "172749               Table Tennis   \n",
       "112826        Rhythmic Gymnastics   \n",
       "\n",
       "                                                    Event Medal  \n",
       "168450               Athletics Women's 100 metres Hurdles   NaN  \n",
       "128186                          Handball Women's Handball   NaN  \n",
       "207518  Short Track Speed Skating Women's 3,000 metres...   NaN  \n",
       "172749                       Table Tennis Women's Singles   NaN  \n",
       "112826             Rhythmic Gymnastics Women's Individual  Gold  "
      ]
     },
     "execution_count": 54,
     "metadata": {},
     "output_type": "execute_result"
    }
   ],
   "source": [
    "strat2 = df.groupby('Sex', group_keys= False).apply(lambda x: x.sample(frac = 0.15, random_state =42))\n",
    "strat2.head()"
   ]
  },
  {
   "cell_type": "code",
   "execution_count": 55,
   "id": "56b4d008",
   "metadata": {
    "ExecuteTime": {
     "end_time": "2022-03-07T22:05:51.533152Z",
     "start_time": "2022-03-07T22:05:51.518220Z"
    }
   },
   "outputs": [
    {
     "data": {
      "text/plain": [
       "(30925, 15)"
      ]
     },
     "execution_count": 55,
     "metadata": {},
     "output_type": "execute_result"
    }
   ],
   "source": [
    "strat2.shape"
   ]
  },
  {
   "cell_type": "markdown",
   "id": "18945591",
   "metadata": {},
   "source": [
    "Now we have 30925 rows (15% of the original). Let´s check if the percentages of male and female athletes resembles the original dataframe:"
   ]
  },
  {
   "cell_type": "code",
   "execution_count": 56,
   "id": "9dd37f93",
   "metadata": {
    "ExecuteTime": {
     "end_time": "2022-03-07T22:05:51.548396Z",
     "start_time": "2022-03-07T22:05:51.534396Z"
    }
   },
   "outputs": [
    {
     "data": {
      "text/html": [
       "<div>\n",
       "<style scoped>\n",
       "    .dataframe tbody tr th:only-of-type {\n",
       "        vertical-align: middle;\n",
       "    }\n",
       "\n",
       "    .dataframe tbody tr th {\n",
       "        vertical-align: top;\n",
       "    }\n",
       "\n",
       "    .dataframe thead th {\n",
       "        text-align: right;\n",
       "    }\n",
       "</style>\n",
       "<table border=\"1\" class=\"dataframe\">\n",
       "  <thead>\n",
       "    <tr style=\"text-align: right;\">\n",
       "      <th></th>\n",
       "      <th>index</th>\n",
       "      <th>Sex</th>\n",
       "    </tr>\n",
       "  </thead>\n",
       "  <tbody>\n",
       "    <tr>\n",
       "      <th>0</th>\n",
       "      <td>M</td>\n",
       "      <td>67.64%</td>\n",
       "    </tr>\n",
       "    <tr>\n",
       "      <th>1</th>\n",
       "      <td>F</td>\n",
       "      <td>32.36%</td>\n",
       "    </tr>\n",
       "  </tbody>\n",
       "</table>\n",
       "</div>"
      ],
      "text/plain": [
       "  index     Sex\n",
       "0     M  67.64%\n",
       "1     F  32.36%"
      ]
     },
     "execution_count": 56,
     "metadata": {},
     "output_type": "execute_result"
    }
   ],
   "source": [
    "strat_gender = strat2.Sex.value_counts(normalize=True).mul(100).round(2).astype(str) + '%'\n",
    "strat_gender.reset_index()"
   ]
  },
  {
   "cell_type": "markdown",
   "id": "5cc1ef72",
   "metadata": {
    "ExecuteTime": {
     "end_time": "2022-03-07T18:30:08.640450Z",
     "start_time": "2022-03-07T18:30:08.623410Z"
    }
   },
   "source": [
    "We can see that the proportion of male and female is the same as before the sampling."
   ]
  },
  {
   "cell_type": "markdown",
   "id": "fd380e54",
   "metadata": {},
   "source": [
    "### SMOTE\n",
    "\n",
    "SMOTE is a technique that oversamples a minority class in an imbalanced dataset. In our case, we can look at the **season of the Games: athletes from Winter Games or athletes from Summer Gammes.**"
   ]
  },
  {
   "cell_type": "code",
   "execution_count": 57,
   "id": "e8d361e5",
   "metadata": {
    "ExecuteTime": {
     "end_time": "2022-03-07T22:05:51.691395Z",
     "start_time": "2022-03-07T22:05:51.552316Z"
    }
   },
   "outputs": [
    {
     "data": {
      "image/png": "[encoded data removed]",
      "text/plain": [
       "<Figure size 360x216 with 1 Axes>"
      ]
     },
     "metadata": {
      "needs_background": "light"
     },
     "output_type": "display_data"
    }
   ],
   "source": [
    "ax = df.Season.value_counts().plot(kind = 'bar', figsize = (5, 3), color = ['#ffd966','#b9d5ee'])\n",
    "ax.set_title('Athletes in Winter Games vs Summer Games', fontsize = 12)\n",
    "ax.set_ylabel('Number of athletes', fontsize = 10)\n",
    "ax.spines['right'].set_visible(False)\n",
    "ax.spines['top'].set_visible(False)\n",
    "xlabels = ['Summer Games', 'Winter Games']\n",
    "ax.set_xticklabels(xlabels, rotation=45, ha='right')\n",
    "for i in ax.patches: \n",
    "    ax.text(i.get_x()+0.19, i.get_height() + 700, str(round(i.get_height(), 2 )), fontsize = 12)"
   ]
  },
  {
   "cell_type": "markdown",
   "id": "d5d2acb2",
   "metadata": {},
   "source": [
    "We see the dataset is pretty imbalanced in this case. Before doing SMOTE, we have to get rid of categorical data. We will delete some columns that we are not going to use and also we will transform some categorical into numerical data."
   ]
  },
  {
   "cell_type": "code",
   "execution_count": 58,
   "id": "f977f5a2",
   "metadata": {
    "ExecuteTime": {
     "end_time": "2022-03-07T22:05:51.707335Z",
     "start_time": "2022-03-07T22:05:51.693335Z"
    }
   },
   "outputs": [
    {
     "data": {
      "text/plain": [
       "Index(['ID', 'Name', 'Sex', 'Age', 'Height', 'Weight', 'Team', 'NOC', 'Games',\n",
       "       'Year', 'Season', 'City', 'Sport', 'Event', 'Medal'],\n",
       "      dtype='object')"
      ]
     },
     "execution_count": 58,
     "metadata": {},
     "output_type": "execute_result"
    }
   ],
   "source": [
    "df.columns"
   ]
  },
  {
   "cell_type": "code",
   "execution_count": 59,
   "id": "43cf4485",
   "metadata": {
    "ExecuteTime": {
     "end_time": "2022-03-07T22:05:51.738349Z",
     "start_time": "2022-03-07T22:05:51.708340Z"
    }
   },
   "outputs": [],
   "source": [
    "# we create a new dataframe with only the columns we want: \n",
    "columns = ['Sex','Age', 'Height', 'Weight','Year', 'Season', 'Medal']\n",
    "df2 = df[columns]"
   ]
  },
  {
   "cell_type": "code",
   "execution_count": 60,
   "id": "884e3989",
   "metadata": {
    "ExecuteTime": {
     "end_time": "2022-03-07T22:05:51.753647Z",
     "start_time": "2022-03-07T22:05:51.740349Z"
    }
   },
   "outputs": [
    {
     "data": {
      "text/html": [
       "<div>\n",
       "<style scoped>\n",
       "    .dataframe tbody tr th:only-of-type {\n",
       "        vertical-align: middle;\n",
       "    }\n",
       "\n",
       "    .dataframe tbody tr th {\n",
       "        vertical-align: top;\n",
       "    }\n",
       "\n",
       "    .dataframe thead th {\n",
       "        text-align: right;\n",
       "    }\n",
       "</style>\n",
       "<table border=\"1\" class=\"dataframe\">\n",
       "  <thead>\n",
       "    <tr style=\"text-align: right;\">\n",
       "      <th></th>\n",
       "      <th>Sex</th>\n",
       "      <th>Age</th>\n",
       "      <th>Height</th>\n",
       "      <th>Weight</th>\n",
       "      <th>Year</th>\n",
       "      <th>Season</th>\n",
       "      <th>Medal</th>\n",
       "    </tr>\n",
       "  </thead>\n",
       "  <tbody>\n",
       "    <tr>\n",
       "      <th>0</th>\n",
       "      <td>M</td>\n",
       "      <td>24.0</td>\n",
       "      <td>180.0</td>\n",
       "      <td>80.0</td>\n",
       "      <td>1992</td>\n",
       "      <td>Summer</td>\n",
       "      <td>NaN</td>\n",
       "    </tr>\n",
       "    <tr>\n",
       "      <th>1</th>\n",
       "      <td>M</td>\n",
       "      <td>23.0</td>\n",
       "      <td>170.0</td>\n",
       "      <td>60.0</td>\n",
       "      <td>2012</td>\n",
       "      <td>Summer</td>\n",
       "      <td>NaN</td>\n",
       "    </tr>\n",
       "    <tr>\n",
       "      <th>4</th>\n",
       "      <td>F</td>\n",
       "      <td>21.0</td>\n",
       "      <td>185.0</td>\n",
       "      <td>82.0</td>\n",
       "      <td>1988</td>\n",
       "      <td>Winter</td>\n",
       "      <td>NaN</td>\n",
       "    </tr>\n",
       "  </tbody>\n",
       "</table>\n",
       "</div>"
      ],
      "text/plain": [
       "  Sex   Age  Height  Weight  Year  Season Medal\n",
       "0   M  24.0   180.0    80.0  1992  Summer   NaN\n",
       "1   M  23.0   170.0    60.0  2012  Summer   NaN\n",
       "4   F  21.0   185.0    82.0  1988  Winter   NaN"
      ]
     },
     "execution_count": 60,
     "metadata": {},
     "output_type": "execute_result"
    }
   ],
   "source": [
    "df2.head(3)"
   ]
  },
  {
   "cell_type": "code",
   "execution_count": 61,
   "id": "130a3a33",
   "metadata": {
    "ExecuteTime": {
     "end_time": "2022-03-07T22:05:51.817238Z",
     "start_time": "2022-03-07T22:05:51.755346Z"
    }
   },
   "outputs": [],
   "source": [
    "# change categorical columns Sex, Season and Medal to integer: \n",
    "\n",
    "# mapping sex\n",
    "df2['Sex'] = df2['Sex'].map({'M': 0, 'F': 1}).astype(int)\n",
    "    \n",
    "# mapping Season\n",
    "df2['Season'] = df2['Season'].map({'Winter' : 0, 'Summer': 1}).astype(int)\n",
    "    \n",
    "# mapping Medal\n",
    "medal_map = {np.nan: 0, 'Bronze': 3, 'Silver': 2, 'Gold': 1}\n",
    "df2['Medal'] = df2['Medal'].map(medal_map).astype(int)"
   ]
  },
  {
   "cell_type": "code",
   "execution_count": 62,
   "id": "cc59e7e0",
   "metadata": {
    "ExecuteTime": {
     "end_time": "2022-03-07T22:05:51.848850Z",
     "start_time": "2022-03-07T22:05:51.819153Z"
    }
   },
   "outputs": [
    {
     "data": {
      "text/html": [
       "<div>\n",
       "<style scoped>\n",
       "    .dataframe tbody tr th:only-of-type {\n",
       "        vertical-align: middle;\n",
       "    }\n",
       "\n",
       "    .dataframe tbody tr th {\n",
       "        vertical-align: top;\n",
       "    }\n",
       "\n",
       "    .dataframe thead th {\n",
       "        text-align: right;\n",
       "    }\n",
       "</style>\n",
       "<table border=\"1\" class=\"dataframe\">\n",
       "  <thead>\n",
       "    <tr style=\"text-align: right;\">\n",
       "      <th></th>\n",
       "      <th>Sex</th>\n",
       "      <th>Age</th>\n",
       "      <th>Height</th>\n",
       "      <th>Weight</th>\n",
       "      <th>Year</th>\n",
       "      <th>Season</th>\n",
       "      <th>Medal</th>\n",
       "    </tr>\n",
       "  </thead>\n",
       "  <tbody>\n",
       "    <tr>\n",
       "      <th>0</th>\n",
       "      <td>0</td>\n",
       "      <td>24.0</td>\n",
       "      <td>180.0</td>\n",
       "      <td>80.0</td>\n",
       "      <td>1992</td>\n",
       "      <td>1</td>\n",
       "      <td>0</td>\n",
       "    </tr>\n",
       "    <tr>\n",
       "      <th>1</th>\n",
       "      <td>0</td>\n",
       "      <td>23.0</td>\n",
       "      <td>170.0</td>\n",
       "      <td>60.0</td>\n",
       "      <td>2012</td>\n",
       "      <td>1</td>\n",
       "      <td>0</td>\n",
       "    </tr>\n",
       "    <tr>\n",
       "      <th>4</th>\n",
       "      <td>1</td>\n",
       "      <td>21.0</td>\n",
       "      <td>185.0</td>\n",
       "      <td>82.0</td>\n",
       "      <td>1988</td>\n",
       "      <td>0</td>\n",
       "      <td>0</td>\n",
       "    </tr>\n",
       "    <tr>\n",
       "      <th>5</th>\n",
       "      <td>1</td>\n",
       "      <td>21.0</td>\n",
       "      <td>185.0</td>\n",
       "      <td>82.0</td>\n",
       "      <td>1988</td>\n",
       "      <td>0</td>\n",
       "      <td>0</td>\n",
       "    </tr>\n",
       "    <tr>\n",
       "      <th>6</th>\n",
       "      <td>1</td>\n",
       "      <td>25.0</td>\n",
       "      <td>185.0</td>\n",
       "      <td>82.0</td>\n",
       "      <td>1992</td>\n",
       "      <td>0</td>\n",
       "      <td>0</td>\n",
       "    </tr>\n",
       "  </tbody>\n",
       "</table>\n",
       "</div>"
      ],
      "text/plain": [
       "   Sex   Age  Height  Weight  Year  Season  Medal\n",
       "0    0  24.0   180.0    80.0  1992       1      0\n",
       "1    0  23.0   170.0    60.0  2012       1      0\n",
       "4    1  21.0   185.0    82.0  1988       0      0\n",
       "5    1  21.0   185.0    82.0  1988       0      0\n",
       "6    1  25.0   185.0    82.0  1992       0      0"
      ]
     },
     "execution_count": 62,
     "metadata": {},
     "output_type": "execute_result"
    }
   ],
   "source": [
    "df2.head()"
   ]
  },
  {
   "cell_type": "code",
   "execution_count": 63,
   "id": "1fc1a0c5",
   "metadata": {
    "ExecuteTime": {
     "end_time": "2022-03-07T22:05:51.880008Z",
     "start_time": "2022-03-07T22:05:51.850772Z"
    }
   },
   "outputs": [
    {
     "name": "stdout",
     "output_type": "stream",
     "text": [
      "<class 'pandas.core.frame.DataFrame'>\n",
      "Int64Index: 206165 entries, 0 to 271115\n",
      "Data columns (total 7 columns):\n",
      " #   Column  Non-Null Count   Dtype  \n",
      "---  ------  --------------   -----  \n",
      " 0   Sex     206165 non-null  int32  \n",
      " 1   Age     206165 non-null  float64\n",
      " 2   Height  206165 non-null  float64\n",
      " 3   Weight  206165 non-null  float64\n",
      " 4   Year    206165 non-null  int64  \n",
      " 5   Season  206165 non-null  int32  \n",
      " 6   Medal   206165 non-null  int32  \n",
      "dtypes: float64(3), int32(3), int64(1)\n",
      "memory usage: 10.2 MB\n"
     ]
    }
   ],
   "source": [
    "df2.info()"
   ]
  },
  {
   "cell_type": "markdown",
   "id": "5b94d7e3",
   "metadata": {},
   "source": [
    "Now we can do SMOTE for oversampling the minority class, in our case the Winter Games. First we import the library:"
   ]
  },
  {
   "cell_type": "code",
   "execution_count": 64,
   "id": "6d5085da",
   "metadata": {
    "ExecuteTime": {
     "end_time": "2022-03-07T22:05:51.895102Z",
     "start_time": "2022-03-07T22:05:51.885133Z"
    }
   },
   "outputs": [],
   "source": [
    "from imblearn.over_sampling import SMOTE "
   ]
  },
  {
   "cell_type": "code",
   "execution_count": 65,
   "id": "8e1dda38",
   "metadata": {
    "ExecuteTime": {
     "end_time": "2022-03-07T22:05:52.496795Z",
     "start_time": "2022-03-07T22:05:51.897103Z"
    }
   },
   "outputs": [
    {
     "data": {
      "text/html": [
       "<div>\n",
       "<style scoped>\n",
       "    .dataframe tbody tr th:only-of-type {\n",
       "        vertical-align: middle;\n",
       "    }\n",
       "\n",
       "    .dataframe tbody tr th {\n",
       "        vertical-align: top;\n",
       "    }\n",
       "\n",
       "    .dataframe thead th {\n",
       "        text-align: right;\n",
       "    }\n",
       "</style>\n",
       "<table border=\"1\" class=\"dataframe\">\n",
       "  <thead>\n",
       "    <tr style=\"text-align: right;\">\n",
       "      <th></th>\n",
       "      <th>Sex</th>\n",
       "      <th>Age</th>\n",
       "      <th>Height</th>\n",
       "      <th>Weight</th>\n",
       "      <th>Year</th>\n",
       "      <th>Season</th>\n",
       "      <th>Medal</th>\n",
       "    </tr>\n",
       "  </thead>\n",
       "  <tbody>\n",
       "    <tr>\n",
       "      <th>0</th>\n",
       "      <td>0</td>\n",
       "      <td>24.0</td>\n",
       "      <td>180.0</td>\n",
       "      <td>80.0</td>\n",
       "      <td>1992</td>\n",
       "      <td>1</td>\n",
       "      <td>0</td>\n",
       "    </tr>\n",
       "    <tr>\n",
       "      <th>1</th>\n",
       "      <td>0</td>\n",
       "      <td>23.0</td>\n",
       "      <td>170.0</td>\n",
       "      <td>60.0</td>\n",
       "      <td>2012</td>\n",
       "      <td>1</td>\n",
       "      <td>0</td>\n",
       "    </tr>\n",
       "    <tr>\n",
       "      <th>2</th>\n",
       "      <td>1</td>\n",
       "      <td>21.0</td>\n",
       "      <td>185.0</td>\n",
       "      <td>82.0</td>\n",
       "      <td>1988</td>\n",
       "      <td>0</td>\n",
       "      <td>0</td>\n",
       "    </tr>\n",
       "    <tr>\n",
       "      <th>3</th>\n",
       "      <td>1</td>\n",
       "      <td>21.0</td>\n",
       "      <td>185.0</td>\n",
       "      <td>82.0</td>\n",
       "      <td>1988</td>\n",
       "      <td>0</td>\n",
       "      <td>0</td>\n",
       "    </tr>\n",
       "    <tr>\n",
       "      <th>4</th>\n",
       "      <td>1</td>\n",
       "      <td>25.0</td>\n",
       "      <td>185.0</td>\n",
       "      <td>82.0</td>\n",
       "      <td>1992</td>\n",
       "      <td>0</td>\n",
       "      <td>0</td>\n",
       "    </tr>\n",
       "  </tbody>\n",
       "</table>\n",
       "</div>"
      ],
      "text/plain": [
       "   Sex   Age  Height  Weight  Year  Season  Medal\n",
       "0    0  24.0   180.0    80.0  1992       1      0\n",
       "1    0  23.0   170.0    60.0  2012       1      0\n",
       "2    1  21.0   185.0    82.0  1988       0      0\n",
       "3    1  21.0   185.0    82.0  1988       0      0\n",
       "4    1  25.0   185.0    82.0  1992       0      0"
      ]
     },
     "execution_count": 65,
     "metadata": {},
     "output_type": "execute_result"
    }
   ],
   "source": [
    "sm = SMOTE(random_state = 42)\n",
    "\n",
    "X_sm, y_sm = sm.fit_resample(df2, df2['Season'])\n",
    "X_sm.head()"
   ]
  },
  {
   "cell_type": "code",
   "execution_count": 66,
   "id": "3dd3a191",
   "metadata": {
    "ExecuteTime": {
     "end_time": "2022-03-07T22:05:52.636522Z",
     "start_time": "2022-03-07T22:05:52.498345Z"
    }
   },
   "outputs": [
    {
     "data": {
      "image/png": "[encoded data removed]",
      "text/plain": [
       "<Figure size 360x216 with 1 Axes>"
      ]
     },
     "metadata": {
      "needs_background": "light"
     },
     "output_type": "display_data"
    }
   ],
   "source": [
    "# again we´ll look at the graph to compare Season: \n",
    "ax = X_sm.Season.value_counts().plot(kind = 'bar', figsize = (5, 3), color = ['#ffd966','#b9d5ee'])\n",
    "ax.set_title('Winter Games vs Summer Games after SMOTE', fontsize = 12)\n",
    "ax.set_ylabel('Number of athletes', fontsize = 10)\n",
    "ax.spines['right'].set_visible(False)\n",
    "ax.spines['top'].set_visible(False)\n",
    "xlabels = ['Summer Games', 'Winter Games']\n",
    "ax.set_xticklabels(xlabels, rotation=45, ha='right')\n",
    "for i in ax.patches: \n",
    "    ax.text(i.get_x()+0.19, i.get_height() + 700, str(round(i.get_height(), 2 )), fontsize = 12)"
   ]
  },
  {
   "cell_type": "markdown",
   "id": "e21ce858",
   "metadata": {},
   "source": [
    "We can see it worked!! Let´s check if the summary statistics resemble the ones in the orifginal dataframe:"
   ]
  },
  {
   "cell_type": "code",
   "execution_count": 67,
   "id": "ccb0a0ac",
   "metadata": {
    "ExecuteTime": {
     "end_time": "2022-03-07T22:05:52.716412Z",
     "start_time": "2022-03-07T22:05:52.638566Z"
    }
   },
   "outputs": [
    {
     "data": {
      "text/html": [
       "<style type=\"text/css\">\n",
       "</style>\n",
       "<table id=\"T_7ebc1\" style='display:inline'>\n",
       "  <caption>df_describe</caption>\n",
       "  <thead>\n",
       "    <tr>\n",
       "      <th class=\"blank level0\" >&nbsp;</th>\n",
       "      <th id=\"T_7ebc1_level0_col0\" class=\"col_heading level0 col0\" >Age</th>\n",
       "      <th id=\"T_7ebc1_level0_col1\" class=\"col_heading level0 col1\" >Height</th>\n",
       "      <th id=\"T_7ebc1_level0_col2\" class=\"col_heading level0 col2\" >Weight</th>\n",
       "    </tr>\n",
       "  </thead>\n",
       "  <tbody>\n",
       "    <tr>\n",
       "      <th id=\"T_7ebc1_level0_row0\" class=\"row_heading level0 row0\" >count</th>\n",
       "      <td id=\"T_7ebc1_row0_col0\" class=\"data row0 col0\" >206165.000000</td>\n",
       "      <td id=\"T_7ebc1_row0_col1\" class=\"data row0 col1\" >206165.000000</td>\n",
       "      <td id=\"T_7ebc1_row0_col2\" class=\"data row0 col2\" >206165.000000</td>\n",
       "    </tr>\n",
       "    <tr>\n",
       "      <th id=\"T_7ebc1_level0_row1\" class=\"row_heading level0 row1\" >mean</th>\n",
       "      <td id=\"T_7ebc1_row1_col0\" class=\"data row1 col0\" >25.060000</td>\n",
       "      <td id=\"T_7ebc1_row1_col1\" class=\"data row1 col1\" >175.370000</td>\n",
       "      <td id=\"T_7ebc1_row1_col2\" class=\"data row1 col2\" >70.690000</td>\n",
       "    </tr>\n",
       "    <tr>\n",
       "      <th id=\"T_7ebc1_level0_row2\" class=\"row_heading level0 row2\" >std</th>\n",
       "      <td id=\"T_7ebc1_row2_col0\" class=\"data row2 col0\" >5.480000</td>\n",
       "      <td id=\"T_7ebc1_row2_col1\" class=\"data row2 col1\" >10.550000</td>\n",
       "      <td id=\"T_7ebc1_row2_col2\" class=\"data row2 col2\" >14.340000</td>\n",
       "    </tr>\n",
       "    <tr>\n",
       "      <th id=\"T_7ebc1_level0_row3\" class=\"row_heading level0 row3\" >min</th>\n",
       "      <td id=\"T_7ebc1_row3_col0\" class=\"data row3 col0\" >11.000000</td>\n",
       "      <td id=\"T_7ebc1_row3_col1\" class=\"data row3 col1\" >127.000000</td>\n",
       "      <td id=\"T_7ebc1_row3_col2\" class=\"data row3 col2\" >25.000000</td>\n",
       "    </tr>\n",
       "    <tr>\n",
       "      <th id=\"T_7ebc1_level0_row4\" class=\"row_heading level0 row4\" >25%</th>\n",
       "      <td id=\"T_7ebc1_row4_col0\" class=\"data row4 col0\" >21.000000</td>\n",
       "      <td id=\"T_7ebc1_row4_col1\" class=\"data row4 col1\" >168.000000</td>\n",
       "      <td id=\"T_7ebc1_row4_col2\" class=\"data row4 col2\" >60.000000</td>\n",
       "    </tr>\n",
       "    <tr>\n",
       "      <th id=\"T_7ebc1_level0_row5\" class=\"row_heading level0 row5\" >50%</th>\n",
       "      <td id=\"T_7ebc1_row5_col0\" class=\"data row5 col0\" >24.000000</td>\n",
       "      <td id=\"T_7ebc1_row5_col1\" class=\"data row5 col1\" >175.000000</td>\n",
       "      <td id=\"T_7ebc1_row5_col2\" class=\"data row5 col2\" >70.000000</td>\n",
       "    </tr>\n",
       "    <tr>\n",
       "      <th id=\"T_7ebc1_level0_row6\" class=\"row_heading level0 row6\" >75%</th>\n",
       "      <td id=\"T_7ebc1_row6_col0\" class=\"data row6 col0\" >28.000000</td>\n",
       "      <td id=\"T_7ebc1_row6_col1\" class=\"data row6 col1\" >183.000000</td>\n",
       "      <td id=\"T_7ebc1_row6_col2\" class=\"data row6 col2\" >79.000000</td>\n",
       "    </tr>\n",
       "    <tr>\n",
       "      <th id=\"T_7ebc1_level0_row7\" class=\"row_heading level0 row7\" >max</th>\n",
       "      <td id=\"T_7ebc1_row7_col0\" class=\"data row7 col0\" >71.000000</td>\n",
       "      <td id=\"T_7ebc1_row7_col1\" class=\"data row7 col1\" >226.000000</td>\n",
       "      <td id=\"T_7ebc1_row7_col2\" class=\"data row7 col2\" >214.000000</td>\n",
       "    </tr>\n",
       "  </tbody>\n",
       "</table>\n",
       "          <style type=\"text/css\">\n",
       "</style>\n",
       "<table id=\"T_36ac2\" style='display:inline'>\n",
       "  <caption>X_sm_describe</caption>\n",
       "  <thead>\n",
       "    <tr>\n",
       "      <th class=\"blank level0\" >&nbsp;</th>\n",
       "      <th id=\"T_36ac2_level0_col0\" class=\"col_heading level0 col0\" >Age</th>\n",
       "      <th id=\"T_36ac2_level0_col1\" class=\"col_heading level0 col1\" >Height</th>\n",
       "      <th id=\"T_36ac2_level0_col2\" class=\"col_heading level0 col2\" >Weight</th>\n",
       "    </tr>\n",
       "  </thead>\n",
       "  <tbody>\n",
       "    <tr>\n",
       "      <th id=\"T_36ac2_level0_row0\" class=\"row_heading level0 row0\" >count</th>\n",
       "      <td id=\"T_36ac2_row0_col0\" class=\"data row0 col0\" >333412.000000</td>\n",
       "      <td id=\"T_36ac2_row0_col1\" class=\"data row0 col1\" >333412.000000</td>\n",
       "      <td id=\"T_36ac2_row0_col2\" class=\"data row0 col2\" >333412.000000</td>\n",
       "    </tr>\n",
       "    <tr>\n",
       "      <th id=\"T_36ac2_level0_row1\" class=\"row_heading level0 row1\" >mean</th>\n",
       "      <td id=\"T_36ac2_row1_col0\" class=\"data row1 col0\" >25.065810</td>\n",
       "      <td id=\"T_36ac2_row1_col1\" class=\"data row1 col1\" >175.093565</td>\n",
       "      <td id=\"T_36ac2_row1_col2\" class=\"data row1 col2\" >70.705260</td>\n",
       "    </tr>\n",
       "    <tr>\n",
       "      <th id=\"T_36ac2_level0_row2\" class=\"row_heading level0 row2\" >std</th>\n",
       "      <td id=\"T_36ac2_row2_col0\" class=\"data row2 col0\" >5.139163</td>\n",
       "      <td id=\"T_36ac2_row2_col1\" class=\"data row2 col1\" >9.828324</td>\n",
       "      <td id=\"T_36ac2_row2_col2\" class=\"data row2 col2\" >13.537384</td>\n",
       "    </tr>\n",
       "    <tr>\n",
       "      <th id=\"T_36ac2_level0_row3\" class=\"row_heading level0 row3\" >min</th>\n",
       "      <td id=\"T_36ac2_row3_col0\" class=\"data row3 col0\" >11.000000</td>\n",
       "      <td id=\"T_36ac2_row3_col1\" class=\"data row3 col1\" >127.000000</td>\n",
       "      <td id=\"T_36ac2_row3_col2\" class=\"data row3 col2\" >25.000000</td>\n",
       "    </tr>\n",
       "    <tr>\n",
       "      <th id=\"T_36ac2_level0_row4\" class=\"row_heading level0 row4\" >25%</th>\n",
       "      <td id=\"T_36ac2_row4_col0\" class=\"data row4 col0\" >21.837138</td>\n",
       "      <td id=\"T_36ac2_row4_col1\" class=\"data row4 col1\" >168.000000</td>\n",
       "      <td id=\"T_36ac2_row4_col2\" class=\"data row4 col2\" >61.000000</td>\n",
       "    </tr>\n",
       "    <tr>\n",
       "      <th id=\"T_36ac2_level0_row5\" class=\"row_heading level0 row5\" >50%</th>\n",
       "      <td id=\"T_36ac2_row5_col0\" class=\"data row5 col0\" >24.117626</td>\n",
       "      <td id=\"T_36ac2_row5_col1\" class=\"data row5 col1\" >175.000000</td>\n",
       "      <td id=\"T_36ac2_row5_col2\" class=\"data row5 col2\" >70.000000</td>\n",
       "    </tr>\n",
       "    <tr>\n",
       "      <th id=\"T_36ac2_level0_row6\" class=\"row_heading level0 row6\" >75%</th>\n",
       "      <td id=\"T_36ac2_row6_col0\" class=\"data row6 col0\" >28.000000</td>\n",
       "      <td id=\"T_36ac2_row6_col1\" class=\"data row6 col1\" >182.000000</td>\n",
       "      <td id=\"T_36ac2_row6_col2\" class=\"data row6 col2\" >79.000000</td>\n",
       "    </tr>\n",
       "    <tr>\n",
       "      <th id=\"T_36ac2_level0_row7\" class=\"row_heading level0 row7\" >max</th>\n",
       "      <td id=\"T_36ac2_row7_col0\" class=\"data row7 col0\" >71.000000</td>\n",
       "      <td id=\"T_36ac2_row7_col1\" class=\"data row7 col1\" >226.000000</td>\n",
       "      <td id=\"T_36ac2_row7_col2\" class=\"data row7 col2\" >214.000000</td>\n",
       "    </tr>\n",
       "  </tbody>\n",
       "</table>\n"
      ]
     },
     "metadata": {},
     "output_type": "display_data"
    }
   ],
   "source": [
    "X_sm_describe = X_sm[['Age', 'Height', 'Weight']].describe()\n",
    "\n",
    "title1 = 'df_describe'\n",
    "title2 = 'X_sm_describe'\n",
    "side_by_side_df(df_describe, X_sm_describe,title1, title2)"
   ]
  },
  {
   "cell_type": "markdown",
   "id": "0d1ae80c",
   "metadata": {},
   "source": [
    "Despite that we have oversampled part of our data, the summary statistics are quite similar in both cases. We can check if the proportion of males/females that we calculated earlier is kept in this case:"
   ]
  },
  {
   "cell_type": "code",
   "execution_count": 68,
   "id": "cf2f935b",
   "metadata": {
    "ExecuteTime": {
     "end_time": "2022-03-07T22:05:52.747342Z",
     "start_time": "2022-03-07T22:05:52.717523Z"
    }
   },
   "outputs": [
    {
     "data": {
      "text/html": [
       "<div>\n",
       "<style scoped>\n",
       "    .dataframe tbody tr th:only-of-type {\n",
       "        vertical-align: middle;\n",
       "    }\n",
       "\n",
       "    .dataframe tbody tr th {\n",
       "        vertical-align: top;\n",
       "    }\n",
       "\n",
       "    .dataframe thead th {\n",
       "        text-align: right;\n",
       "    }\n",
       "</style>\n",
       "<table border=\"1\" class=\"dataframe\">\n",
       "  <thead>\n",
       "    <tr style=\"text-align: right;\">\n",
       "      <th></th>\n",
       "      <th>index</th>\n",
       "      <th>Sex</th>\n",
       "    </tr>\n",
       "  </thead>\n",
       "  <tbody>\n",
       "    <tr>\n",
       "      <th>0</th>\n",
       "      <td>0</td>\n",
       "      <td>68.87%</td>\n",
       "    </tr>\n",
       "    <tr>\n",
       "      <th>1</th>\n",
       "      <td>1</td>\n",
       "      <td>31.13%</td>\n",
       "    </tr>\n",
       "  </tbody>\n",
       "</table>\n",
       "</div>"
      ],
      "text/plain": [
       "   index     Sex\n",
       "0      0  68.87%\n",
       "1      1  31.13%"
      ]
     },
     "execution_count": 68,
     "metadata": {},
     "output_type": "execute_result"
    }
   ],
   "source": [
    "gender_sm = X_sm.Sex.value_counts(normalize=True).mul(100).round(2).astype(str) + '%'\n",
    "gender_sm.reset_index()"
   ]
  },
  {
   "cell_type": "markdown",
   "id": "bb570545",
   "metadata": {},
   "source": [
    "It´s not the same proportion as before, but it´s very similar, only 1 point different (before it was 67.64% for Male and 32.36% for female)"
   ]
  },
  {
   "cell_type": "markdown",
   "id": "2ed9b7e9",
   "metadata": {},
   "source": [
    "## **Exercici 3**"
   ]
  },
  {
   "cell_type": "markdown",
   "id": "02794fc2",
   "metadata": {},
   "source": [
    "Continua amb el conjunt de dades de tema esportiu i genera una mostra utilitzant el mètode Reservoir sampling."
   ]
  },
  {
   "cell_type": "markdown",
   "id": "7ceb0567",
   "metadata": {},
   "source": [
    "Reservoir is an algorithm that given a dataframe of unknown lenght ensures that we can choose k elements such that each element has an equal probability of getting selected.It can be mathematically proved that in the sample **each element has the same probability of getting selected from the stream.**\n",
    "\n",
    "This algorithm is explained in: https://towardsdatascience.com/the-5-sampling-algorithms-every-data-scientist-need-to-know-43c7bc11d17c"
   ]
  },
  {
   "cell_type": "code",
   "execution_count": 69,
   "id": "77a8d3c8",
   "metadata": {
    "ExecuteTime": {
     "end_time": "2022-03-07T22:05:52.856141Z",
     "start_time": "2022-03-07T22:05:52.749307Z"
    }
   },
   "outputs": [
    {
     "name": "stdout",
     "output_type": "stream",
     "text": [
      "[164016, 114399, 89051, 136467, 40218, 84355, 3314, 109343, 68491, 152251, 6428, 64112, 38623, 185537, 18603, 89645, 11917, 77326, 174045, 125103, 161226, 206006, 11292, 173737, 118858, 49999, 90674, 122079, 122179, 191189, 80666, 138719, 58930, 198453, 45862, 112331, 19924, 18264, 145528, 59755, 63421, 195373, 77907, 66752, 102286, 203795, 58649, 100303, 183390, 202307, 62063, 144206, 1462, 47992, 142126, 164539, 16393, 157130, 13277, 21636, 158927, 152332, 132022, 1124, 3589, 155998, 65485, 203361, 36884, 145803, 134163, 157794, 41373, 10048, 117761, 52156, 111084, 186679, 85397, 10306, 94123, 6674, 70634, 16556, 93839, 89311, 175492, 189373, 191541, 101346, 147886, 4240, 125208, 38239, 129433, 36315, 26189, 127773, 201880, 3817, 73907, 148973, 187427, 92460, 4937, 129940, 115419, 15007, 44343, 97700, 4858, 100304, 77893, 93454, 73561, 20999, 148298, 133498, 47387, 171783, 152790, 90354, 116065, 189408, 51797, 154081, 77441, 133141, 179268, 200699, 160274, 118701, 65505, 184987, 14636, 160291, 130503, 197348, 193955, 161351, 117778, 3396, 126909, 80552, 172652, 12517, 20219, 35659, 39514, 145811, 177238, 200441, 166443, 82181, 6848, 131122, 128449, 28961, 164180, 153100, 203971, 115736, 78811, 111058, 204380, 168135, 113984, 115826, 35099, 86127, 26580, 1449, 176872, 51717, 138330, 146602, 127390, 169543, 44399, 28527, 27036, 121013, 110482, 14896, 182336, 149220, 196469, 24069, 30646, 158977, 171381, 172626, 44191, 103246, 54215, 193174, 163392, 202374, 357, 123494]\n"
     ]
    }
   ],
   "source": [
    "# we use the reservoir algorithm: \n",
    "def generator(max):\n",
    "    number = 1\n",
    "    while number < max:\n",
    "        number += 1\n",
    "        yield number\n",
    "        \n",
    "stream = generator(len(df))\n",
    "reservoir = []\n",
    "k= 200 # we want our sample to have a size of 200\n",
    "\n",
    "for i, element in enumerate(stream):\n",
    "    if i+1<= k:\n",
    "        reservoir.append(element)\n",
    "    else:\n",
    "        probability = k/(i+1)\n",
    "        if random.random() < probability:\n",
    "            # Select item in stream and remove one of the k items already selected\n",
    "             reservoir[random.choice(range(0,k))] = element\n",
    "print(reservoir)"
   ]
  },
  {
   "cell_type": "code",
   "execution_count": 70,
   "id": "7b444b71",
   "metadata": {
    "ExecuteTime": {
     "end_time": "2022-03-07T22:05:52.887012Z",
     "start_time": "2022-03-07T22:05:52.858140Z"
    }
   },
   "outputs": [
    {
     "data": {
      "text/html": [
       "<div>\n",
       "<style scoped>\n",
       "    .dataframe tbody tr th:only-of-type {\n",
       "        vertical-align: middle;\n",
       "    }\n",
       "\n",
       "    .dataframe tbody tr th {\n",
       "        vertical-align: top;\n",
       "    }\n",
       "\n",
       "    .dataframe thead th {\n",
       "        text-align: right;\n",
       "    }\n",
       "</style>\n",
       "<table border=\"1\" class=\"dataframe\">\n",
       "  <thead>\n",
       "    <tr style=\"text-align: right;\">\n",
       "      <th></th>\n",
       "      <th>ID</th>\n",
       "      <th>Name</th>\n",
       "      <th>Sex</th>\n",
       "      <th>Age</th>\n",
       "      <th>Height</th>\n",
       "      <th>Weight</th>\n",
       "      <th>Team</th>\n",
       "      <th>NOC</th>\n",
       "      <th>Games</th>\n",
       "      <th>Year</th>\n",
       "      <th>Season</th>\n",
       "      <th>City</th>\n",
       "      <th>Sport</th>\n",
       "      <th>Event</th>\n",
       "      <th>Medal</th>\n",
       "    </tr>\n",
       "  </thead>\n",
       "  <tbody>\n",
       "    <tr>\n",
       "      <th>216321</th>\n",
       "      <td>108583</td>\n",
       "      <td>Kseniya Andreyevna Semyonova</td>\n",
       "      <td>F</td>\n",
       "      <td>15.0</td>\n",
       "      <td>138.0</td>\n",
       "      <td>35.0</td>\n",
       "      <td>Russia</td>\n",
       "      <td>RUS</td>\n",
       "      <td>2008 Summer</td>\n",
       "      <td>2008</td>\n",
       "      <td>Summer</td>\n",
       "      <td>Beijing</td>\n",
       "      <td>Gymnastics</td>\n",
       "      <td>Gymnastics Women's Individual All-Around</td>\n",
       "      <td>NaN</td>\n",
       "    </tr>\n",
       "    <tr>\n",
       "      <th>151262</th>\n",
       "      <td>75917</td>\n",
       "      <td>Thor Kristian Martinsen</td>\n",
       "      <td>M</td>\n",
       "      <td>22.0</td>\n",
       "      <td>170.0</td>\n",
       "      <td>80.0</td>\n",
       "      <td>Norway</td>\n",
       "      <td>NOR</td>\n",
       "      <td>1968 Winter</td>\n",
       "      <td>1968</td>\n",
       "      <td>Winter</td>\n",
       "      <td>Grenoble</td>\n",
       "      <td>Ice Hockey</td>\n",
       "      <td>Ice Hockey Men's Ice Hockey</td>\n",
       "      <td>NaN</td>\n",
       "    </tr>\n",
       "    <tr>\n",
       "      <th>118442</th>\n",
       "      <td>59916</td>\n",
       "      <td>Kim Gyeong-Hun</td>\n",
       "      <td>M</td>\n",
       "      <td>25.0</td>\n",
       "      <td>196.0</td>\n",
       "      <td>84.0</td>\n",
       "      <td>South Korea</td>\n",
       "      <td>KOR</td>\n",
       "      <td>2000 Summer</td>\n",
       "      <td>2000</td>\n",
       "      <td>Summer</td>\n",
       "      <td>Sydney</td>\n",
       "      <td>Taekwondo</td>\n",
       "      <td>Taekwondo Men's Heavyweight</td>\n",
       "      <td>Gold</td>\n",
       "    </tr>\n",
       "  </tbody>\n",
       "</table>\n",
       "</div>"
      ],
      "text/plain": [
       "            ID                          Name Sex   Age  Height  Weight  \\\n",
       "216321  108583  Kseniya Andreyevna Semyonova   F  15.0   138.0    35.0   \n",
       "151262   75917       Thor Kristian Martinsen   M  22.0   170.0    80.0   \n",
       "118442   59916                Kim Gyeong-Hun   M  25.0   196.0    84.0   \n",
       "\n",
       "               Team  NOC        Games  Year  Season      City       Sport  \\\n",
       "216321       Russia  RUS  2008 Summer  2008  Summer   Beijing  Gymnastics   \n",
       "151262       Norway  NOR  1968 Winter  1968  Winter  Grenoble  Ice Hockey   \n",
       "118442  South Korea  KOR  2000 Summer  2000  Summer    Sydney   Taekwondo   \n",
       "\n",
       "                                           Event Medal  \n",
       "216321  Gymnastics Women's Individual All-Around   NaN  \n",
       "151262               Ice Hockey Men's Ice Hockey   NaN  \n",
       "118442               Taekwondo Men's Heavyweight  Gold  "
      ]
     },
     "execution_count": 70,
     "metadata": {},
     "output_type": "execute_result"
    }
   ],
   "source": [
    "# we have a list of 200 random indexes, now we can get a reservoir sample of these 200 rows: \n",
    "reservoir_df = df.iloc[reservoir]\n",
    "reservoir_df.head(3)"
   ]
  },
  {
   "cell_type": "code",
   "execution_count": 71,
   "id": "40165dde",
   "metadata": {
    "ExecuteTime": {
     "end_time": "2022-03-07T22:05:52.903040Z",
     "start_time": "2022-03-07T22:05:52.888910Z"
    }
   },
   "outputs": [
    {
     "data": {
      "text/plain": [
       "(200, 15)"
      ]
     },
     "execution_count": 71,
     "metadata": {},
     "output_type": "execute_result"
    }
   ],
   "source": [
    "reservoir_df.shape"
   ]
  },
  {
   "cell_type": "markdown",
   "id": "b1b079e3",
   "metadata": {},
   "source": [
    "As we did above, we can compare the summary statistics with the original dataframe:"
   ]
  },
  {
   "cell_type": "code",
   "execution_count": 72,
   "id": "5b843896",
   "metadata": {
    "ExecuteTime": {
     "end_time": "2022-03-07T22:05:52.934387Z",
     "start_time": "2022-03-07T22:05:52.905186Z"
    }
   },
   "outputs": [
    {
     "data": {
      "text/html": [
       "<style type=\"text/css\">\n",
       "</style>\n",
       "<table id=\"T_43faa\" style='display:inline'>\n",
       "  <caption>df_describe</caption>\n",
       "  <thead>\n",
       "    <tr>\n",
       "      <th class=\"blank level0\" >&nbsp;</th>\n",
       "      <th id=\"T_43faa_level0_col0\" class=\"col_heading level0 col0\" >Age</th>\n",
       "      <th id=\"T_43faa_level0_col1\" class=\"col_heading level0 col1\" >Height</th>\n",
       "      <th id=\"T_43faa_level0_col2\" class=\"col_heading level0 col2\" >Weight</th>\n",
       "    </tr>\n",
       "  </thead>\n",
       "  <tbody>\n",
       "    <tr>\n",
       "      <th id=\"T_43faa_level0_row0\" class=\"row_heading level0 row0\" >count</th>\n",
       "      <td id=\"T_43faa_row0_col0\" class=\"data row0 col0\" >206165.000000</td>\n",
       "      <td id=\"T_43faa_row0_col1\" class=\"data row0 col1\" >206165.000000</td>\n",
       "      <td id=\"T_43faa_row0_col2\" class=\"data row0 col2\" >206165.000000</td>\n",
       "    </tr>\n",
       "    <tr>\n",
       "      <th id=\"T_43faa_level0_row1\" class=\"row_heading level0 row1\" >mean</th>\n",
       "      <td id=\"T_43faa_row1_col0\" class=\"data row1 col0\" >25.060000</td>\n",
       "      <td id=\"T_43faa_row1_col1\" class=\"data row1 col1\" >175.370000</td>\n",
       "      <td id=\"T_43faa_row1_col2\" class=\"data row1 col2\" >70.690000</td>\n",
       "    </tr>\n",
       "    <tr>\n",
       "      <th id=\"T_43faa_level0_row2\" class=\"row_heading level0 row2\" >std</th>\n",
       "      <td id=\"T_43faa_row2_col0\" class=\"data row2 col0\" >5.480000</td>\n",
       "      <td id=\"T_43faa_row2_col1\" class=\"data row2 col1\" >10.550000</td>\n",
       "      <td id=\"T_43faa_row2_col2\" class=\"data row2 col2\" >14.340000</td>\n",
       "    </tr>\n",
       "    <tr>\n",
       "      <th id=\"T_43faa_level0_row3\" class=\"row_heading level0 row3\" >min</th>\n",
       "      <td id=\"T_43faa_row3_col0\" class=\"data row3 col0\" >11.000000</td>\n",
       "      <td id=\"T_43faa_row3_col1\" class=\"data row3 col1\" >127.000000</td>\n",
       "      <td id=\"T_43faa_row3_col2\" class=\"data row3 col2\" >25.000000</td>\n",
       "    </tr>\n",
       "    <tr>\n",
       "      <th id=\"T_43faa_level0_row4\" class=\"row_heading level0 row4\" >25%</th>\n",
       "      <td id=\"T_43faa_row4_col0\" class=\"data row4 col0\" >21.000000</td>\n",
       "      <td id=\"T_43faa_row4_col1\" class=\"data row4 col1\" >168.000000</td>\n",
       "      <td id=\"T_43faa_row4_col2\" class=\"data row4 col2\" >60.000000</td>\n",
       "    </tr>\n",
       "    <tr>\n",
       "      <th id=\"T_43faa_level0_row5\" class=\"row_heading level0 row5\" >50%</th>\n",
       "      <td id=\"T_43faa_row5_col0\" class=\"data row5 col0\" >24.000000</td>\n",
       "      <td id=\"T_43faa_row5_col1\" class=\"data row5 col1\" >175.000000</td>\n",
       "      <td id=\"T_43faa_row5_col2\" class=\"data row5 col2\" >70.000000</td>\n",
       "    </tr>\n",
       "    <tr>\n",
       "      <th id=\"T_43faa_level0_row6\" class=\"row_heading level0 row6\" >75%</th>\n",
       "      <td id=\"T_43faa_row6_col0\" class=\"data row6 col0\" >28.000000</td>\n",
       "      <td id=\"T_43faa_row6_col1\" class=\"data row6 col1\" >183.000000</td>\n",
       "      <td id=\"T_43faa_row6_col2\" class=\"data row6 col2\" >79.000000</td>\n",
       "    </tr>\n",
       "    <tr>\n",
       "      <th id=\"T_43faa_level0_row7\" class=\"row_heading level0 row7\" >max</th>\n",
       "      <td id=\"T_43faa_row7_col0\" class=\"data row7 col0\" >71.000000</td>\n",
       "      <td id=\"T_43faa_row7_col1\" class=\"data row7 col1\" >226.000000</td>\n",
       "      <td id=\"T_43faa_row7_col2\" class=\"data row7 col2\" >214.000000</td>\n",
       "    </tr>\n",
       "  </tbody>\n",
       "</table>\n",
       "          <style type=\"text/css\">\n",
       "</style>\n",
       "<table id=\"T_4cc2e\" style='display:inline'>\n",
       "  <caption>reservoir_df_describe</caption>\n",
       "  <thead>\n",
       "    <tr>\n",
       "      <th class=\"blank level0\" >&nbsp;</th>\n",
       "      <th id=\"T_4cc2e_level0_col0\" class=\"col_heading level0 col0\" >Age</th>\n",
       "      <th id=\"T_4cc2e_level0_col1\" class=\"col_heading level0 col1\" >Height</th>\n",
       "      <th id=\"T_4cc2e_level0_col2\" class=\"col_heading level0 col2\" >Weight</th>\n",
       "    </tr>\n",
       "  </thead>\n",
       "  <tbody>\n",
       "    <tr>\n",
       "      <th id=\"T_4cc2e_level0_row0\" class=\"row_heading level0 row0\" >count</th>\n",
       "      <td id=\"T_4cc2e_row0_col0\" class=\"data row0 col0\" >200.000000</td>\n",
       "      <td id=\"T_4cc2e_row0_col1\" class=\"data row0 col1\" >200.000000</td>\n",
       "      <td id=\"T_4cc2e_row0_col2\" class=\"data row0 col2\" >200.000000</td>\n",
       "    </tr>\n",
       "    <tr>\n",
       "      <th id=\"T_4cc2e_level0_row1\" class=\"row_heading level0 row1\" >mean</th>\n",
       "      <td id=\"T_4cc2e_row1_col0\" class=\"data row1 col0\" >25.500000</td>\n",
       "      <td id=\"T_4cc2e_row1_col1\" class=\"data row1 col1\" >176.400000</td>\n",
       "      <td id=\"T_4cc2e_row1_col2\" class=\"data row1 col2\" >71.880000</td>\n",
       "    </tr>\n",
       "    <tr>\n",
       "      <th id=\"T_4cc2e_level0_row2\" class=\"row_heading level0 row2\" >std</th>\n",
       "      <td id=\"T_4cc2e_row2_col0\" class=\"data row2 col0\" >5.150000</td>\n",
       "      <td id=\"T_4cc2e_row2_col1\" class=\"data row2 col1\" >10.280000</td>\n",
       "      <td id=\"T_4cc2e_row2_col2\" class=\"data row2 col2\" >13.020000</td>\n",
       "    </tr>\n",
       "    <tr>\n",
       "      <th id=\"T_4cc2e_level0_row3\" class=\"row_heading level0 row3\" >min</th>\n",
       "      <td id=\"T_4cc2e_row3_col0\" class=\"data row3 col0\" >15.000000</td>\n",
       "      <td id=\"T_4cc2e_row3_col1\" class=\"data row3 col1\" >138.000000</td>\n",
       "      <td id=\"T_4cc2e_row3_col2\" class=\"data row3 col2\" >35.000000</td>\n",
       "    </tr>\n",
       "    <tr>\n",
       "      <th id=\"T_4cc2e_level0_row4\" class=\"row_heading level0 row4\" >25%</th>\n",
       "      <td id=\"T_4cc2e_row4_col0\" class=\"data row4 col0\" >22.000000</td>\n",
       "      <td id=\"T_4cc2e_row4_col1\" class=\"data row4 col1\" >170.000000</td>\n",
       "      <td id=\"T_4cc2e_row4_col2\" class=\"data row4 col2\" >62.000000</td>\n",
       "    </tr>\n",
       "    <tr>\n",
       "      <th id=\"T_4cc2e_level0_row5\" class=\"row_heading level0 row5\" >50%</th>\n",
       "      <td id=\"T_4cc2e_row5_col0\" class=\"data row5 col0\" >25.000000</td>\n",
       "      <td id=\"T_4cc2e_row5_col1\" class=\"data row5 col1\" >176.000000</td>\n",
       "      <td id=\"T_4cc2e_row5_col2\" class=\"data row5 col2\" >72.000000</td>\n",
       "    </tr>\n",
       "    <tr>\n",
       "      <th id=\"T_4cc2e_level0_row6\" class=\"row_heading level0 row6\" >75%</th>\n",
       "      <td id=\"T_4cc2e_row6_col0\" class=\"data row6 col0\" >28.000000</td>\n",
       "      <td id=\"T_4cc2e_row6_col1\" class=\"data row6 col1\" >184.000000</td>\n",
       "      <td id=\"T_4cc2e_row6_col2\" class=\"data row6 col2\" >80.250000</td>\n",
       "    </tr>\n",
       "    <tr>\n",
       "      <th id=\"T_4cc2e_level0_row7\" class=\"row_heading level0 row7\" >max</th>\n",
       "      <td id=\"T_4cc2e_row7_col0\" class=\"data row7 col0\" >48.000000</td>\n",
       "      <td id=\"T_4cc2e_row7_col1\" class=\"data row7 col1\" >211.000000</td>\n",
       "      <td id=\"T_4cc2e_row7_col2\" class=\"data row7 col2\" >111.000000</td>\n",
       "    </tr>\n",
       "  </tbody>\n",
       "</table>\n"
      ]
     },
     "metadata": {},
     "output_type": "display_data"
    }
   ],
   "source": [
    "reservoir_df_describe = reservoir_df[['Age', 'Height', 'Weight']].describe().round(2)\n",
    "\n",
    "title1 = 'df_describe'\n",
    "title2 = 'reservoir_df_describe'\n",
    "side_by_side_df(df_describe, reservoir_df_describe,title1, title2)"
   ]
  },
  {
   "cell_type": "markdown",
   "id": "90a59c09",
   "metadata": {},
   "source": [
    "Here we can see a little variation from the original dataframe, specially in the min and max values, but we have to take into account that this is the smallest sample we've created so far (it only contains 200 rows)."
   ]
  }
 ],
 "metadata": {
  "kernelspec": {
   "display_name": "Python 3 (ipykernel)",
   "language": "python",
   "name": "python3"
  },
  "language_info": {
   "codemirror_mode": {
    "name": "ipython",
    "version": 3
   },
   "file_extension": ".py",
   "mimetype": "text/x-python",
   "name": "python",
   "nbconvert_exporter": "python",
   "pygments_lexer": "ipython3",
   "version": "3.9.7"
  }
 },
 "nbformat": 4,
 "nbformat_minor": 5
}
